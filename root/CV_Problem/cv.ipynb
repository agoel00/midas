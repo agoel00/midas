{
  "nbformat": 4,
  "nbformat_minor": 0,
  "metadata": {
    "colab": {
      "name": "midasCV2.ipynb",
      "version": "0.3.2",
      "provenance": [],
      "collapsed_sections": [
        "pc5xkZBvmoxq",
        "Y1_t-2UCnLhw",
        "mGCu7UOyneKo"
      ]
    },
    "kernelspec": {
      "name": "python3",
      "display_name": "Python 3"
    },
    "accelerator": "GPU"
  },
  "cells": [
    {
      "metadata": {
        "id": "6OtBNbComPkE",
        "colab_type": "text"
      },
      "cell_type": "markdown",
      "source": [
        "# Midas IIIT-D Summer Internship Task 2\n",
        "\n",
        "## Computer Vision Problem"
      ]
    },
    {
      "metadata": {
        "id": "W3k5fczEmZAl",
        "colab_type": "text"
      },
      "cell_type": "markdown",
      "source": [
        "###  Problem Statement\n",
        "You can download train and test dataset from [here](https://https://drive.google.com/drive/folders/1F2PjpJ_u_iaD-Fs0wwcymRiVVLK34-Fu?usp=sharing). This dataset has 4 classes. Labels for training data are provided, you have to submit labels of test data. Feel free to use any Machine learning or Deep learning technique."
      ]
    },
    {
      "metadata": {
        "id": "pc5xkZBvmoxq",
        "colab_type": "text"
      },
      "cell_type": "markdown",
      "source": [
        "### Importing Libraries\n",
        "\n",
        "\n",
        "\n",
        "\n",
        "*   Pandas for data manipulation\n",
        "*   Numpy for mathematical operations\n",
        "*  Matplotlib and Seaborn for plotting graphs\n",
        "*  Pickle for extracting image data from provided pkl files\n",
        "*  Keras for creating deep neural networks\n",
        "\n",
        "\n",
        "\n"
      ]
    },
    {
      "metadata": {
        "id": "2GvAGM1u2upJ",
        "colab_type": "code",
        "colab": {}
      },
      "cell_type": "code",
      "source": [
        "import pandas as pd\n",
        "import numpy as np\n",
        "import matplotlib.pyplot as plt\n",
        "import matplotlib.image as mpimg\n",
        "import seaborn as sns\n",
        "import pickle\n",
        "\n",
        "np.random.seed(2)\n",
        "\n",
        "from sklearn.model_selection import train_test_split\n",
        "from sklearn.metrics import confusion_matrix\n",
        "import itertools\n",
        "\n",
        "from keras.utils.np_utils import to_categorical # convert to one-hot-encoding\n",
        "from keras.models import Sequential\n",
        "from keras.layers import Dense, Dropout, Flatten, Conv2D, MaxPool2D\n",
        "from keras.optimizers import RMSprop\n",
        "from keras.preprocessing.image import ImageDataGenerator\n",
        "from keras.callbacks import ReduceLROnPlateau\n",
        "from keras.layers import BatchNormalization\n",
        "\n",
        "\n",
        "\n"
      ],
      "execution_count": 0,
      "outputs": []
    },
    {
      "metadata": {
        "id": "Y1_t-2UCnLhw",
        "colab_type": "text"
      },
      "cell_type": "markdown",
      "source": [
        "### Retreiving data\n",
        "\n",
        "Data is provided as pkl files.\n",
        "The pkl files are unpacked into python lists and then converted into numpy arrays for easier manipulations"
      ]
    },
    {
      "metadata": {
        "id": "YzLd4xLI2vbv",
        "colab_type": "code",
        "colab": {}
      },
      "cell_type": "code",
      "source": [
        "with open('drive/My Drive/Vision_task_dataset_public/train_image.pkl', 'rb') as f:\n",
        "  train_image = pickle.load(f)\n",
        "  \n",
        "with open('drive/My Drive/Vision_task_dataset_public/train_label.pkl', 'rb') as f:\n",
        "  train_label = pickle.load(f)"
      ],
      "execution_count": 0,
      "outputs": []
    },
    {
      "metadata": {
        "id": "KO_fdfOj3D79",
        "colab_type": "code",
        "colab": {}
      },
      "cell_type": "code",
      "source": [
        "train_image = np.array(train_image, dtype='float32')\n",
        "train_label = np.array(train_label, dtype='float32')"
      ],
      "execution_count": 0,
      "outputs": []
    },
    {
      "metadata": {
        "id": "LbDGJ6Cd3KQ3",
        "colab_type": "code",
        "outputId": "48419844-3b6c-40d9-d8e8-52b314fedd7f",
        "colab": {
          "base_uri": "https://localhost:8080/",
          "height": 34
        }
      },
      "cell_type": "code",
      "source": [
        "print(f\"Total number of images in dataset are: {train_image.shape[0]}\")"
      ],
      "execution_count": 7,
      "outputs": [
        {
          "output_type": "stream",
          "text": [
            "Total number of images in dataset are: 8000\n"
          ],
          "name": "stdout"
        }
      ]
    },
    {
      "metadata": {
        "id": "mGCu7UOyneKo",
        "colab_type": "text"
      },
      "cell_type": "markdown",
      "source": [
        "### Playing with training data\n",
        "\n"
      ]
    },
    {
      "metadata": {
        "id": "RzKzzGdO3W4T",
        "colab_type": "code",
        "colab": {}
      },
      "cell_type": "code",
      "source": [
        "data = pd.DataFrame(train_image)"
      ],
      "execution_count": 0,
      "outputs": []
    },
    {
      "metadata": {
        "id": "1YPJdiBc3cG5",
        "colab_type": "code",
        "outputId": "2920ff18-5510-4a3b-da6c-e9108d444550",
        "colab": {
          "base_uri": "https://localhost:8080/",
          "height": 233
        }
      },
      "cell_type": "code",
      "source": [
        "data.head()"
      ],
      "execution_count": 9,
      "outputs": [
        {
          "output_type": "execute_result",
          "data": {
            "text/html": [
              "<div>\n",
              "<style scoped>\n",
              "    .dataframe tbody tr th:only-of-type {\n",
              "        vertical-align: middle;\n",
              "    }\n",
              "\n",
              "    .dataframe tbody tr th {\n",
              "        vertical-align: top;\n",
              "    }\n",
              "\n",
              "    .dataframe thead th {\n",
              "        text-align: right;\n",
              "    }\n",
              "</style>\n",
              "<table border=\"1\" class=\"dataframe\">\n",
              "  <thead>\n",
              "    <tr style=\"text-align: right;\">\n",
              "      <th></th>\n",
              "      <th>0</th>\n",
              "      <th>1</th>\n",
              "      <th>2</th>\n",
              "      <th>3</th>\n",
              "      <th>4</th>\n",
              "      <th>5</th>\n",
              "      <th>6</th>\n",
              "      <th>7</th>\n",
              "      <th>8</th>\n",
              "      <th>9</th>\n",
              "      <th>...</th>\n",
              "      <th>774</th>\n",
              "      <th>775</th>\n",
              "      <th>776</th>\n",
              "      <th>777</th>\n",
              "      <th>778</th>\n",
              "      <th>779</th>\n",
              "      <th>780</th>\n",
              "      <th>781</th>\n",
              "      <th>782</th>\n",
              "      <th>783</th>\n",
              "    </tr>\n",
              "  </thead>\n",
              "  <tbody>\n",
              "    <tr>\n",
              "      <th>0</th>\n",
              "      <td>0.0</td>\n",
              "      <td>0.0</td>\n",
              "      <td>0.0</td>\n",
              "      <td>0.0</td>\n",
              "      <td>0.0</td>\n",
              "      <td>1.0</td>\n",
              "      <td>0.0</td>\n",
              "      <td>0.0</td>\n",
              "      <td>0.0</td>\n",
              "      <td>0.0</td>\n",
              "      <td>...</td>\n",
              "      <td>119.0</td>\n",
              "      <td>114.0</td>\n",
              "      <td>130.0</td>\n",
              "      <td>76.0</td>\n",
              "      <td>0.0</td>\n",
              "      <td>0.0</td>\n",
              "      <td>0.0</td>\n",
              "      <td>0.0</td>\n",
              "      <td>0.0</td>\n",
              "      <td>0.0</td>\n",
              "    </tr>\n",
              "    <tr>\n",
              "      <th>1</th>\n",
              "      <td>0.0</td>\n",
              "      <td>0.0</td>\n",
              "      <td>0.0</td>\n",
              "      <td>0.0</td>\n",
              "      <td>0.0</td>\n",
              "      <td>0.0</td>\n",
              "      <td>0.0</td>\n",
              "      <td>0.0</td>\n",
              "      <td>0.0</td>\n",
              "      <td>22.0</td>\n",
              "      <td>...</td>\n",
              "      <td>0.0</td>\n",
              "      <td>0.0</td>\n",
              "      <td>1.0</td>\n",
              "      <td>0.0</td>\n",
              "      <td>0.0</td>\n",
              "      <td>0.0</td>\n",
              "      <td>0.0</td>\n",
              "      <td>0.0</td>\n",
              "      <td>0.0</td>\n",
              "      <td>0.0</td>\n",
              "    </tr>\n",
              "    <tr>\n",
              "      <th>2</th>\n",
              "      <td>0.0</td>\n",
              "      <td>0.0</td>\n",
              "      <td>0.0</td>\n",
              "      <td>0.0</td>\n",
              "      <td>0.0</td>\n",
              "      <td>0.0</td>\n",
              "      <td>0.0</td>\n",
              "      <td>0.0</td>\n",
              "      <td>0.0</td>\n",
              "      <td>0.0</td>\n",
              "      <td>...</td>\n",
              "      <td>0.0</td>\n",
              "      <td>0.0</td>\n",
              "      <td>0.0</td>\n",
              "      <td>0.0</td>\n",
              "      <td>0.0</td>\n",
              "      <td>0.0</td>\n",
              "      <td>0.0</td>\n",
              "      <td>0.0</td>\n",
              "      <td>0.0</td>\n",
              "      <td>0.0</td>\n",
              "    </tr>\n",
              "    <tr>\n",
              "      <th>3</th>\n",
              "      <td>0.0</td>\n",
              "      <td>0.0</td>\n",
              "      <td>0.0</td>\n",
              "      <td>0.0</td>\n",
              "      <td>0.0</td>\n",
              "      <td>0.0</td>\n",
              "      <td>0.0</td>\n",
              "      <td>11.0</td>\n",
              "      <td>142.0</td>\n",
              "      <td>200.0</td>\n",
              "      <td>...</td>\n",
              "      <td>120.0</td>\n",
              "      <td>110.0</td>\n",
              "      <td>158.0</td>\n",
              "      <td>18.0</td>\n",
              "      <td>0.0</td>\n",
              "      <td>3.0</td>\n",
              "      <td>0.0</td>\n",
              "      <td>0.0</td>\n",
              "      <td>0.0</td>\n",
              "      <td>0.0</td>\n",
              "    </tr>\n",
              "    <tr>\n",
              "      <th>4</th>\n",
              "      <td>0.0</td>\n",
              "      <td>0.0</td>\n",
              "      <td>0.0</td>\n",
              "      <td>0.0</td>\n",
              "      <td>0.0</td>\n",
              "      <td>0.0</td>\n",
              "      <td>0.0</td>\n",
              "      <td>0.0</td>\n",
              "      <td>0.0</td>\n",
              "      <td>0.0</td>\n",
              "      <td>...</td>\n",
              "      <td>91.0</td>\n",
              "      <td>80.0</td>\n",
              "      <td>46.0</td>\n",
              "      <td>0.0</td>\n",
              "      <td>0.0</td>\n",
              "      <td>1.0</td>\n",
              "      <td>0.0</td>\n",
              "      <td>0.0</td>\n",
              "      <td>0.0</td>\n",
              "      <td>0.0</td>\n",
              "    </tr>\n",
              "  </tbody>\n",
              "</table>\n",
              "<p>5 rows × 784 columns</p>\n",
              "</div>"
            ],
            "text/plain": [
              "   0    1    2    3    4    5    6     7      8      9   ...     774    775  \\\n",
              "0  0.0  0.0  0.0  0.0  0.0  1.0  0.0   0.0    0.0    0.0 ...   119.0  114.0   \n",
              "1  0.0  0.0  0.0  0.0  0.0  0.0  0.0   0.0    0.0   22.0 ...     0.0    0.0   \n",
              "2  0.0  0.0  0.0  0.0  0.0  0.0  0.0   0.0    0.0    0.0 ...     0.0    0.0   \n",
              "3  0.0  0.0  0.0  0.0  0.0  0.0  0.0  11.0  142.0  200.0 ...   120.0  110.0   \n",
              "4  0.0  0.0  0.0  0.0  0.0  0.0  0.0   0.0    0.0    0.0 ...    91.0   80.0   \n",
              "\n",
              "     776   777  778  779  780  781  782  783  \n",
              "0  130.0  76.0  0.0  0.0  0.0  0.0  0.0  0.0  \n",
              "1    1.0   0.0  0.0  0.0  0.0  0.0  0.0  0.0  \n",
              "2    0.0   0.0  0.0  0.0  0.0  0.0  0.0  0.0  \n",
              "3  158.0  18.0  0.0  3.0  0.0  0.0  0.0  0.0  \n",
              "4   46.0   0.0  0.0  1.0  0.0  0.0  0.0  0.0  \n",
              "\n",
              "[5 rows x 784 columns]"
            ]
          },
          "metadata": {
            "tags": []
          },
          "execution_count": 9
        }
      ]
    },
    {
      "metadata": {
        "id": "qDUD_wGf3dAG",
        "colab_type": "code",
        "outputId": "51bff27f-432d-48f3-b0a9-1692415323a8",
        "colab": {
          "base_uri": "https://localhost:8080/",
          "height": 233
        }
      },
      "cell_type": "code",
      "source": [
        "data['label'] = train_label\n",
        "data.head()"
      ],
      "execution_count": 10,
      "outputs": [
        {
          "output_type": "execute_result",
          "data": {
            "text/html": [
              "<div>\n",
              "<style scoped>\n",
              "    .dataframe tbody tr th:only-of-type {\n",
              "        vertical-align: middle;\n",
              "    }\n",
              "\n",
              "    .dataframe tbody tr th {\n",
              "        vertical-align: top;\n",
              "    }\n",
              "\n",
              "    .dataframe thead th {\n",
              "        text-align: right;\n",
              "    }\n",
              "</style>\n",
              "<table border=\"1\" class=\"dataframe\">\n",
              "  <thead>\n",
              "    <tr style=\"text-align: right;\">\n",
              "      <th></th>\n",
              "      <th>0</th>\n",
              "      <th>1</th>\n",
              "      <th>2</th>\n",
              "      <th>3</th>\n",
              "      <th>4</th>\n",
              "      <th>5</th>\n",
              "      <th>6</th>\n",
              "      <th>7</th>\n",
              "      <th>8</th>\n",
              "      <th>9</th>\n",
              "      <th>...</th>\n",
              "      <th>775</th>\n",
              "      <th>776</th>\n",
              "      <th>777</th>\n",
              "      <th>778</th>\n",
              "      <th>779</th>\n",
              "      <th>780</th>\n",
              "      <th>781</th>\n",
              "      <th>782</th>\n",
              "      <th>783</th>\n",
              "      <th>label</th>\n",
              "    </tr>\n",
              "  </thead>\n",
              "  <tbody>\n",
              "    <tr>\n",
              "      <th>0</th>\n",
              "      <td>0.0</td>\n",
              "      <td>0.0</td>\n",
              "      <td>0.0</td>\n",
              "      <td>0.0</td>\n",
              "      <td>0.0</td>\n",
              "      <td>1.0</td>\n",
              "      <td>0.0</td>\n",
              "      <td>0.0</td>\n",
              "      <td>0.0</td>\n",
              "      <td>0.0</td>\n",
              "      <td>...</td>\n",
              "      <td>114.0</td>\n",
              "      <td>130.0</td>\n",
              "      <td>76.0</td>\n",
              "      <td>0.0</td>\n",
              "      <td>0.0</td>\n",
              "      <td>0.0</td>\n",
              "      <td>0.0</td>\n",
              "      <td>0.0</td>\n",
              "      <td>0.0</td>\n",
              "      <td>0.0</td>\n",
              "    </tr>\n",
              "    <tr>\n",
              "      <th>1</th>\n",
              "      <td>0.0</td>\n",
              "      <td>0.0</td>\n",
              "      <td>0.0</td>\n",
              "      <td>0.0</td>\n",
              "      <td>0.0</td>\n",
              "      <td>0.0</td>\n",
              "      <td>0.0</td>\n",
              "      <td>0.0</td>\n",
              "      <td>0.0</td>\n",
              "      <td>22.0</td>\n",
              "      <td>...</td>\n",
              "      <td>0.0</td>\n",
              "      <td>1.0</td>\n",
              "      <td>0.0</td>\n",
              "      <td>0.0</td>\n",
              "      <td>0.0</td>\n",
              "      <td>0.0</td>\n",
              "      <td>0.0</td>\n",
              "      <td>0.0</td>\n",
              "      <td>0.0</td>\n",
              "      <td>0.0</td>\n",
              "    </tr>\n",
              "    <tr>\n",
              "      <th>2</th>\n",
              "      <td>0.0</td>\n",
              "      <td>0.0</td>\n",
              "      <td>0.0</td>\n",
              "      <td>0.0</td>\n",
              "      <td>0.0</td>\n",
              "      <td>0.0</td>\n",
              "      <td>0.0</td>\n",
              "      <td>0.0</td>\n",
              "      <td>0.0</td>\n",
              "      <td>0.0</td>\n",
              "      <td>...</td>\n",
              "      <td>0.0</td>\n",
              "      <td>0.0</td>\n",
              "      <td>0.0</td>\n",
              "      <td>0.0</td>\n",
              "      <td>0.0</td>\n",
              "      <td>0.0</td>\n",
              "      <td>0.0</td>\n",
              "      <td>0.0</td>\n",
              "      <td>0.0</td>\n",
              "      <td>0.0</td>\n",
              "    </tr>\n",
              "    <tr>\n",
              "      <th>3</th>\n",
              "      <td>0.0</td>\n",
              "      <td>0.0</td>\n",
              "      <td>0.0</td>\n",
              "      <td>0.0</td>\n",
              "      <td>0.0</td>\n",
              "      <td>0.0</td>\n",
              "      <td>0.0</td>\n",
              "      <td>11.0</td>\n",
              "      <td>142.0</td>\n",
              "      <td>200.0</td>\n",
              "      <td>...</td>\n",
              "      <td>110.0</td>\n",
              "      <td>158.0</td>\n",
              "      <td>18.0</td>\n",
              "      <td>0.0</td>\n",
              "      <td>3.0</td>\n",
              "      <td>0.0</td>\n",
              "      <td>0.0</td>\n",
              "      <td>0.0</td>\n",
              "      <td>0.0</td>\n",
              "      <td>0.0</td>\n",
              "    </tr>\n",
              "    <tr>\n",
              "      <th>4</th>\n",
              "      <td>0.0</td>\n",
              "      <td>0.0</td>\n",
              "      <td>0.0</td>\n",
              "      <td>0.0</td>\n",
              "      <td>0.0</td>\n",
              "      <td>0.0</td>\n",
              "      <td>0.0</td>\n",
              "      <td>0.0</td>\n",
              "      <td>0.0</td>\n",
              "      <td>0.0</td>\n",
              "      <td>...</td>\n",
              "      <td>80.0</td>\n",
              "      <td>46.0</td>\n",
              "      <td>0.0</td>\n",
              "      <td>0.0</td>\n",
              "      <td>1.0</td>\n",
              "      <td>0.0</td>\n",
              "      <td>0.0</td>\n",
              "      <td>0.0</td>\n",
              "      <td>0.0</td>\n",
              "      <td>0.0</td>\n",
              "    </tr>\n",
              "  </tbody>\n",
              "</table>\n",
              "<p>5 rows × 785 columns</p>\n",
              "</div>"
            ],
            "text/plain": [
              "     0    1    2    3    4    5    6     7      8      9  ...      775    776  \\\n",
              "0  0.0  0.0  0.0  0.0  0.0  1.0  0.0   0.0    0.0    0.0  ...    114.0  130.0   \n",
              "1  0.0  0.0  0.0  0.0  0.0  0.0  0.0   0.0    0.0   22.0  ...      0.0    1.0   \n",
              "2  0.0  0.0  0.0  0.0  0.0  0.0  0.0   0.0    0.0    0.0  ...      0.0    0.0   \n",
              "3  0.0  0.0  0.0  0.0  0.0  0.0  0.0  11.0  142.0  200.0  ...    110.0  158.0   \n",
              "4  0.0  0.0  0.0  0.0  0.0  0.0  0.0   0.0    0.0    0.0  ...     80.0   46.0   \n",
              "\n",
              "    777  778  779  780  781  782  783  label  \n",
              "0  76.0  0.0  0.0  0.0  0.0  0.0  0.0    0.0  \n",
              "1   0.0  0.0  0.0  0.0  0.0  0.0  0.0    0.0  \n",
              "2   0.0  0.0  0.0  0.0  0.0  0.0  0.0    0.0  \n",
              "3  18.0  0.0  3.0  0.0  0.0  0.0  0.0    0.0  \n",
              "4   0.0  0.0  1.0  0.0  0.0  0.0  0.0    0.0  \n",
              "\n",
              "[5 rows x 785 columns]"
            ]
          },
          "metadata": {
            "tags": []
          },
          "execution_count": 10
        }
      ]
    },
    {
      "metadata": {
        "id": "GmYEnvPgoOJD",
        "colab_type": "text"
      },
      "cell_type": "markdown",
      "source": [
        "Checking the number of images provided for each class"
      ]
    },
    {
      "metadata": {
        "id": "vTMCOnj33gcY",
        "colab_type": "code",
        "outputId": "8bc7e130-d142-4887-a4bb-e74cd8c76c2d",
        "colab": {
          "base_uri": "https://localhost:8080/",
          "height": 102
        }
      },
      "cell_type": "code",
      "source": [
        "data['label'].value_counts()"
      ],
      "execution_count": 11,
      "outputs": [
        {
          "output_type": "execute_result",
          "data": {
            "text/plain": [
              "6.0    2000\n",
              "3.0    2000\n",
              "2.0    2000\n",
              "0.0    2000\n",
              "Name: label, dtype: int64"
            ]
          },
          "metadata": {
            "tags": []
          },
          "execution_count": 11
        }
      ]
    },
    {
      "metadata": {
        "id": "QdnOVqlEn1nX",
        "colab_type": "text"
      },
      "cell_type": "markdown",
      "source": [
        "Since the data appears to be ordered we randomly shuffle the data using sklearn utility functions\n",
        "\n",
        "\n",
        "\n",
        "\n",
        "\n",
        "\n"
      ]
    },
    {
      "metadata": {
        "id": "JdBlu5Wd3opZ",
        "colab_type": "code",
        "colab": {}
      },
      "cell_type": "code",
      "source": [
        "from sklearn.utils import shuffle\n",
        "data = shuffle(data).reset_index(drop=True)"
      ],
      "execution_count": 0,
      "outputs": []
    },
    {
      "metadata": {
        "id": "Db7hlAmYoV5B",
        "colab_type": "text"
      },
      "cell_type": "markdown",
      "source": [
        "Separating images and labels once again, after data manipulation has been applied"
      ]
    },
    {
      "metadata": {
        "id": "zCcGz9Yj4Obg",
        "colab_type": "code",
        "colab": {}
      },
      "cell_type": "code",
      "source": [
        "imgs = data.drop(['label'], axis=1)\n",
        "labels = data['label']"
      ],
      "execution_count": 0,
      "outputs": []
    },
    {
      "metadata": {
        "id": "WxfDWaJR4U3t",
        "colab_type": "code",
        "outputId": "61af32c0-82e4-4a6b-9a78-131a4c325073",
        "colab": {
          "base_uri": "https://localhost:8080/",
          "height": 233
        }
      },
      "cell_type": "code",
      "source": [
        "imgs.head()"
      ],
      "execution_count": 14,
      "outputs": [
        {
          "output_type": "execute_result",
          "data": {
            "text/html": [
              "<div>\n",
              "<style scoped>\n",
              "    .dataframe tbody tr th:only-of-type {\n",
              "        vertical-align: middle;\n",
              "    }\n",
              "\n",
              "    .dataframe tbody tr th {\n",
              "        vertical-align: top;\n",
              "    }\n",
              "\n",
              "    .dataframe thead th {\n",
              "        text-align: right;\n",
              "    }\n",
              "</style>\n",
              "<table border=\"1\" class=\"dataframe\">\n",
              "  <thead>\n",
              "    <tr style=\"text-align: right;\">\n",
              "      <th></th>\n",
              "      <th>0</th>\n",
              "      <th>1</th>\n",
              "      <th>2</th>\n",
              "      <th>3</th>\n",
              "      <th>4</th>\n",
              "      <th>5</th>\n",
              "      <th>6</th>\n",
              "      <th>7</th>\n",
              "      <th>8</th>\n",
              "      <th>9</th>\n",
              "      <th>...</th>\n",
              "      <th>774</th>\n",
              "      <th>775</th>\n",
              "      <th>776</th>\n",
              "      <th>777</th>\n",
              "      <th>778</th>\n",
              "      <th>779</th>\n",
              "      <th>780</th>\n",
              "      <th>781</th>\n",
              "      <th>782</th>\n",
              "      <th>783</th>\n",
              "    </tr>\n",
              "  </thead>\n",
              "  <tbody>\n",
              "    <tr>\n",
              "      <th>0</th>\n",
              "      <td>0.0</td>\n",
              "      <td>0.0</td>\n",
              "      <td>0.0</td>\n",
              "      <td>0.0</td>\n",
              "      <td>0.0</td>\n",
              "      <td>0.0</td>\n",
              "      <td>1.0</td>\n",
              "      <td>0.0</td>\n",
              "      <td>0.0</td>\n",
              "      <td>0.0</td>\n",
              "      <td>...</td>\n",
              "      <td>1.0</td>\n",
              "      <td>2.0</td>\n",
              "      <td>0.0</td>\n",
              "      <td>0.0</td>\n",
              "      <td>132.0</td>\n",
              "      <td>142.0</td>\n",
              "      <td>55.0</td>\n",
              "      <td>0.0</td>\n",
              "      <td>0.0</td>\n",
              "      <td>0.0</td>\n",
              "    </tr>\n",
              "    <tr>\n",
              "      <th>1</th>\n",
              "      <td>0.0</td>\n",
              "      <td>0.0</td>\n",
              "      <td>0.0</td>\n",
              "      <td>2.0</td>\n",
              "      <td>0.0</td>\n",
              "      <td>0.0</td>\n",
              "      <td>0.0</td>\n",
              "      <td>0.0</td>\n",
              "      <td>0.0</td>\n",
              "      <td>0.0</td>\n",
              "      <td>...</td>\n",
              "      <td>154.0</td>\n",
              "      <td>167.0</td>\n",
              "      <td>70.0</td>\n",
              "      <td>0.0</td>\n",
              "      <td>0.0</td>\n",
              "      <td>0.0</td>\n",
              "      <td>0.0</td>\n",
              "      <td>0.0</td>\n",
              "      <td>0.0</td>\n",
              "      <td>0.0</td>\n",
              "    </tr>\n",
              "    <tr>\n",
              "      <th>2</th>\n",
              "      <td>0.0</td>\n",
              "      <td>0.0</td>\n",
              "      <td>0.0</td>\n",
              "      <td>0.0</td>\n",
              "      <td>0.0</td>\n",
              "      <td>0.0</td>\n",
              "      <td>0.0</td>\n",
              "      <td>0.0</td>\n",
              "      <td>0.0</td>\n",
              "      <td>0.0</td>\n",
              "      <td>...</td>\n",
              "      <td>0.0</td>\n",
              "      <td>0.0</td>\n",
              "      <td>0.0</td>\n",
              "      <td>0.0</td>\n",
              "      <td>29.0</td>\n",
              "      <td>31.0</td>\n",
              "      <td>0.0</td>\n",
              "      <td>0.0</td>\n",
              "      <td>0.0</td>\n",
              "      <td>0.0</td>\n",
              "    </tr>\n",
              "    <tr>\n",
              "      <th>3</th>\n",
              "      <td>0.0</td>\n",
              "      <td>0.0</td>\n",
              "      <td>0.0</td>\n",
              "      <td>0.0</td>\n",
              "      <td>0.0</td>\n",
              "      <td>1.0</td>\n",
              "      <td>1.0</td>\n",
              "      <td>1.0</td>\n",
              "      <td>0.0</td>\n",
              "      <td>0.0</td>\n",
              "      <td>...</td>\n",
              "      <td>87.0</td>\n",
              "      <td>95.0</td>\n",
              "      <td>112.0</td>\n",
              "      <td>81.0</td>\n",
              "      <td>0.0</td>\n",
              "      <td>0.0</td>\n",
              "      <td>0.0</td>\n",
              "      <td>0.0</td>\n",
              "      <td>0.0</td>\n",
              "      <td>0.0</td>\n",
              "    </tr>\n",
              "    <tr>\n",
              "      <th>4</th>\n",
              "      <td>0.0</td>\n",
              "      <td>0.0</td>\n",
              "      <td>0.0</td>\n",
              "      <td>0.0</td>\n",
              "      <td>0.0</td>\n",
              "      <td>0.0</td>\n",
              "      <td>0.0</td>\n",
              "      <td>0.0</td>\n",
              "      <td>25.0</td>\n",
              "      <td>138.0</td>\n",
              "      <td>...</td>\n",
              "      <td>180.0</td>\n",
              "      <td>195.0</td>\n",
              "      <td>166.0</td>\n",
              "      <td>0.0</td>\n",
              "      <td>0.0</td>\n",
              "      <td>1.0</td>\n",
              "      <td>0.0</td>\n",
              "      <td>0.0</td>\n",
              "      <td>0.0</td>\n",
              "      <td>0.0</td>\n",
              "    </tr>\n",
              "  </tbody>\n",
              "</table>\n",
              "<p>5 rows × 784 columns</p>\n",
              "</div>"
            ],
            "text/plain": [
              "   0    1    2    3    4    5    6    7     8      9   ...     774    775  \\\n",
              "0  0.0  0.0  0.0  0.0  0.0  0.0  1.0  0.0   0.0    0.0 ...     1.0    2.0   \n",
              "1  0.0  0.0  0.0  2.0  0.0  0.0  0.0  0.0   0.0    0.0 ...   154.0  167.0   \n",
              "2  0.0  0.0  0.0  0.0  0.0  0.0  0.0  0.0   0.0    0.0 ...     0.0    0.0   \n",
              "3  0.0  0.0  0.0  0.0  0.0  1.0  1.0  1.0   0.0    0.0 ...    87.0   95.0   \n",
              "4  0.0  0.0  0.0  0.0  0.0  0.0  0.0  0.0  25.0  138.0 ...   180.0  195.0   \n",
              "\n",
              "     776   777    778    779   780  781  782  783  \n",
              "0    0.0   0.0  132.0  142.0  55.0  0.0  0.0  0.0  \n",
              "1   70.0   0.0    0.0    0.0   0.0  0.0  0.0  0.0  \n",
              "2    0.0   0.0   29.0   31.0   0.0  0.0  0.0  0.0  \n",
              "3  112.0  81.0    0.0    0.0   0.0  0.0  0.0  0.0  \n",
              "4  166.0   0.0    0.0    1.0   0.0  0.0  0.0  0.0  \n",
              "\n",
              "[5 rows x 784 columns]"
            ]
          },
          "metadata": {
            "tags": []
          },
          "execution_count": 14
        }
      ]
    },
    {
      "metadata": {
        "id": "MWDdOpMI4WKu",
        "colab_type": "code",
        "outputId": "7094704c-3706-4316-a9fc-82378606cbc0",
        "colab": {
          "base_uri": "https://localhost:8080/",
          "height": 119
        }
      },
      "cell_type": "code",
      "source": [
        "labels.head()"
      ],
      "execution_count": 15,
      "outputs": [
        {
          "output_type": "execute_result",
          "data": {
            "text/plain": [
              "0    6.0\n",
              "1    0.0\n",
              "2    6.0\n",
              "3    3.0\n",
              "4    0.0\n",
              "Name: label, dtype: float32"
            ]
          },
          "metadata": {
            "tags": []
          },
          "execution_count": 15
        }
      ]
    },
    {
      "metadata": {
        "id": "sDTGbraDoiJZ",
        "colab_type": "text"
      },
      "cell_type": "markdown",
      "source": [
        "Since Convolutional Neural Networks converge faster with values between 0 and 1,\n",
        "we divide each pixel value by 255."
      ]
    },
    {
      "metadata": {
        "id": "4w1CDBoM4YL2",
        "colab_type": "code",
        "colab": {}
      },
      "cell_type": "code",
      "source": [
        "imgs = imgs/255.0"
      ],
      "execution_count": 0,
      "outputs": []
    },
    {
      "metadata": {
        "id": "_O413eOp4bAD",
        "colab_type": "code",
        "outputId": "577e36b0-e55e-467b-ca44-e8a2e4fa6bb9",
        "colab": {
          "base_uri": "https://localhost:8080/",
          "height": 233
        }
      },
      "cell_type": "code",
      "source": [
        "imgs.head()"
      ],
      "execution_count": 17,
      "outputs": [
        {
          "output_type": "execute_result",
          "data": {
            "text/html": [
              "<div>\n",
              "<style scoped>\n",
              "    .dataframe tbody tr th:only-of-type {\n",
              "        vertical-align: middle;\n",
              "    }\n",
              "\n",
              "    .dataframe tbody tr th {\n",
              "        vertical-align: top;\n",
              "    }\n",
              "\n",
              "    .dataframe thead th {\n",
              "        text-align: right;\n",
              "    }\n",
              "</style>\n",
              "<table border=\"1\" class=\"dataframe\">\n",
              "  <thead>\n",
              "    <tr style=\"text-align: right;\">\n",
              "      <th></th>\n",
              "      <th>0</th>\n",
              "      <th>1</th>\n",
              "      <th>2</th>\n",
              "      <th>3</th>\n",
              "      <th>4</th>\n",
              "      <th>5</th>\n",
              "      <th>6</th>\n",
              "      <th>7</th>\n",
              "      <th>8</th>\n",
              "      <th>9</th>\n",
              "      <th>...</th>\n",
              "      <th>774</th>\n",
              "      <th>775</th>\n",
              "      <th>776</th>\n",
              "      <th>777</th>\n",
              "      <th>778</th>\n",
              "      <th>779</th>\n",
              "      <th>780</th>\n",
              "      <th>781</th>\n",
              "      <th>782</th>\n",
              "      <th>783</th>\n",
              "    </tr>\n",
              "  </thead>\n",
              "  <tbody>\n",
              "    <tr>\n",
              "      <th>0</th>\n",
              "      <td>0.0</td>\n",
              "      <td>0.0</td>\n",
              "      <td>0.0</td>\n",
              "      <td>0.000000</td>\n",
              "      <td>0.0</td>\n",
              "      <td>0.000000</td>\n",
              "      <td>0.003922</td>\n",
              "      <td>0.000000</td>\n",
              "      <td>0.000000</td>\n",
              "      <td>0.000000</td>\n",
              "      <td>...</td>\n",
              "      <td>0.003922</td>\n",
              "      <td>0.007843</td>\n",
              "      <td>0.000000</td>\n",
              "      <td>0.000000</td>\n",
              "      <td>0.517647</td>\n",
              "      <td>0.556863</td>\n",
              "      <td>0.215686</td>\n",
              "      <td>0.0</td>\n",
              "      <td>0.0</td>\n",
              "      <td>0.0</td>\n",
              "    </tr>\n",
              "    <tr>\n",
              "      <th>1</th>\n",
              "      <td>0.0</td>\n",
              "      <td>0.0</td>\n",
              "      <td>0.0</td>\n",
              "      <td>0.007843</td>\n",
              "      <td>0.0</td>\n",
              "      <td>0.000000</td>\n",
              "      <td>0.000000</td>\n",
              "      <td>0.000000</td>\n",
              "      <td>0.000000</td>\n",
              "      <td>0.000000</td>\n",
              "      <td>...</td>\n",
              "      <td>0.603922</td>\n",
              "      <td>0.654902</td>\n",
              "      <td>0.274510</td>\n",
              "      <td>0.000000</td>\n",
              "      <td>0.000000</td>\n",
              "      <td>0.000000</td>\n",
              "      <td>0.000000</td>\n",
              "      <td>0.0</td>\n",
              "      <td>0.0</td>\n",
              "      <td>0.0</td>\n",
              "    </tr>\n",
              "    <tr>\n",
              "      <th>2</th>\n",
              "      <td>0.0</td>\n",
              "      <td>0.0</td>\n",
              "      <td>0.0</td>\n",
              "      <td>0.000000</td>\n",
              "      <td>0.0</td>\n",
              "      <td>0.000000</td>\n",
              "      <td>0.000000</td>\n",
              "      <td>0.000000</td>\n",
              "      <td>0.000000</td>\n",
              "      <td>0.000000</td>\n",
              "      <td>...</td>\n",
              "      <td>0.000000</td>\n",
              "      <td>0.000000</td>\n",
              "      <td>0.000000</td>\n",
              "      <td>0.000000</td>\n",
              "      <td>0.113725</td>\n",
              "      <td>0.121569</td>\n",
              "      <td>0.000000</td>\n",
              "      <td>0.0</td>\n",
              "      <td>0.0</td>\n",
              "      <td>0.0</td>\n",
              "    </tr>\n",
              "    <tr>\n",
              "      <th>3</th>\n",
              "      <td>0.0</td>\n",
              "      <td>0.0</td>\n",
              "      <td>0.0</td>\n",
              "      <td>0.000000</td>\n",
              "      <td>0.0</td>\n",
              "      <td>0.003922</td>\n",
              "      <td>0.003922</td>\n",
              "      <td>0.003922</td>\n",
              "      <td>0.000000</td>\n",
              "      <td>0.000000</td>\n",
              "      <td>...</td>\n",
              "      <td>0.341176</td>\n",
              "      <td>0.372549</td>\n",
              "      <td>0.439216</td>\n",
              "      <td>0.317647</td>\n",
              "      <td>0.000000</td>\n",
              "      <td>0.000000</td>\n",
              "      <td>0.000000</td>\n",
              "      <td>0.0</td>\n",
              "      <td>0.0</td>\n",
              "      <td>0.0</td>\n",
              "    </tr>\n",
              "    <tr>\n",
              "      <th>4</th>\n",
              "      <td>0.0</td>\n",
              "      <td>0.0</td>\n",
              "      <td>0.0</td>\n",
              "      <td>0.000000</td>\n",
              "      <td>0.0</td>\n",
              "      <td>0.000000</td>\n",
              "      <td>0.000000</td>\n",
              "      <td>0.000000</td>\n",
              "      <td>0.098039</td>\n",
              "      <td>0.541176</td>\n",
              "      <td>...</td>\n",
              "      <td>0.705882</td>\n",
              "      <td>0.764706</td>\n",
              "      <td>0.650980</td>\n",
              "      <td>0.000000</td>\n",
              "      <td>0.000000</td>\n",
              "      <td>0.003922</td>\n",
              "      <td>0.000000</td>\n",
              "      <td>0.0</td>\n",
              "      <td>0.0</td>\n",
              "      <td>0.0</td>\n",
              "    </tr>\n",
              "  </tbody>\n",
              "</table>\n",
              "<p>5 rows × 784 columns</p>\n",
              "</div>"
            ],
            "text/plain": [
              "   0    1    2         3    4         5         6         7         8    \\\n",
              "0  0.0  0.0  0.0  0.000000  0.0  0.000000  0.003922  0.000000  0.000000   \n",
              "1  0.0  0.0  0.0  0.007843  0.0  0.000000  0.000000  0.000000  0.000000   \n",
              "2  0.0  0.0  0.0  0.000000  0.0  0.000000  0.000000  0.000000  0.000000   \n",
              "3  0.0  0.0  0.0  0.000000  0.0  0.003922  0.003922  0.003922  0.000000   \n",
              "4  0.0  0.0  0.0  0.000000  0.0  0.000000  0.000000  0.000000  0.098039   \n",
              "\n",
              "        9   ...        774       775       776       777       778       779  \\\n",
              "0  0.000000 ...   0.003922  0.007843  0.000000  0.000000  0.517647  0.556863   \n",
              "1  0.000000 ...   0.603922  0.654902  0.274510  0.000000  0.000000  0.000000   \n",
              "2  0.000000 ...   0.000000  0.000000  0.000000  0.000000  0.113725  0.121569   \n",
              "3  0.000000 ...   0.341176  0.372549  0.439216  0.317647  0.000000  0.000000   \n",
              "4  0.541176 ...   0.705882  0.764706  0.650980  0.000000  0.000000  0.003922   \n",
              "\n",
              "        780  781  782  783  \n",
              "0  0.215686  0.0  0.0  0.0  \n",
              "1  0.000000  0.0  0.0  0.0  \n",
              "2  0.000000  0.0  0.0  0.0  \n",
              "3  0.000000  0.0  0.0  0.0  \n",
              "4  0.000000  0.0  0.0  0.0  \n",
              "\n",
              "[5 rows x 784 columns]"
            ]
          },
          "metadata": {
            "tags": []
          },
          "execution_count": 17
        }
      ]
    },
    {
      "metadata": {
        "id": "6Ob06OkXovw4",
        "colab_type": "text"
      },
      "cell_type": "markdown",
      "source": [
        "To convert labels into one hot encoded vectors and for easier prediction for the neural net, we map the values of provided classes so that the classes are in order.\n",
        "\n",
        "> 0 is mapped to 0.\n",
        "\n",
        "> 2 is mapped to 1.\n",
        "\n",
        "> 3 is mapped to 2.\n",
        "\n",
        "> 6 is mapped to 3."
      ]
    },
    {
      "metadata": {
        "id": "1lGLZDam4cDw",
        "colab_type": "code",
        "colab": {}
      },
      "cell_type": "code",
      "source": [
        "labels = labels.map({0: 0, 2: 1, 3: 2, 6: 3})\n",
        "labels = np.array(pd.get_dummies(labels))"
      ],
      "execution_count": 0,
      "outputs": []
    },
    {
      "metadata": {
        "id": "xe3acjJv4qDZ",
        "colab_type": "code",
        "outputId": "88d6c83d-cf32-45cf-a63f-a357d9d7a201",
        "colab": {
          "base_uri": "https://localhost:8080/",
          "height": 136
        }
      },
      "cell_type": "code",
      "source": [
        "labels"
      ],
      "execution_count": 19,
      "outputs": [
        {
          "output_type": "execute_result",
          "data": {
            "text/plain": [
              "array([[0, 0, 0, 1],\n",
              "       [1, 0, 0, 0],\n",
              "       [0, 0, 0, 1],\n",
              "       ...,\n",
              "       [0, 0, 0, 1],\n",
              "       [0, 1, 0, 0],\n",
              "       [0, 0, 0, 1]], dtype=uint8)"
            ]
          },
          "metadata": {
            "tags": []
          },
          "execution_count": 19
        }
      ]
    },
    {
      "metadata": {
        "id": "DBOb4C79pJDb",
        "colab_type": "text"
      },
      "cell_type": "markdown",
      "source": [
        "Reshaping the image data in the format\n",
        "\n",
        "(NUM_IMAGES, WIDTH, HEIGHT, 1)\n",
        "\n",
        "This is the format recognised by the neural net"
      ]
    },
    {
      "metadata": {
        "id": "BKtm8Mj64q98",
        "colab_type": "code",
        "colab": {}
      },
      "cell_type": "code",
      "source": [
        "imgs = np.array(imgs).reshape(-1, 28, 28, 1)"
      ],
      "execution_count": 0,
      "outputs": []
    },
    {
      "metadata": {
        "id": "fA-tf3pI41rt",
        "colab_type": "code",
        "outputId": "a08a75d1-7acc-4fb6-8d90-c054c881b54f",
        "colab": {
          "base_uri": "https://localhost:8080/",
          "height": 34
        }
      },
      "cell_type": "code",
      "source": [
        "imgs.shape"
      ],
      "execution_count": 21,
      "outputs": [
        {
          "output_type": "execute_result",
          "data": {
            "text/plain": [
              "(8000, 28, 28, 1)"
            ]
          },
          "metadata": {
            "tags": []
          },
          "execution_count": 21
        }
      ]
    },
    {
      "metadata": {
        "id": "0ICWipJRpVeV",
        "colab_type": "text"
      },
      "cell_type": "markdown",
      "source": [
        "Splitting the training data into training and validation sets using sklearn utility function.\n",
        "\n",
        "Validation data will help us keep a track of how well our network predicts the classes"
      ]
    },
    {
      "metadata": {
        "id": "rPHeImh246Y3",
        "colab_type": "code",
        "colab": {}
      },
      "cell_type": "code",
      "source": [
        "x_train, x_val, y_train, y_val = train_test_split(imgs, labels, test_size=0.15, random_state=42)"
      ],
      "execution_count": 0,
      "outputs": []
    },
    {
      "metadata": {
        "id": "6O_OraU5b9gh",
        "colab_type": "code",
        "colab": {
          "base_uri": "https://localhost:8080/",
          "height": 51
        },
        "outputId": "27e08af7-ed8e-4b91-d940-c64fe60aba35"
      },
      "cell_type": "code",
      "source": [
        "print(f\"Number of images in training data is {x_train.shape[0]}\")\n",
        "print(f\"Number of images in validation data is {x_val.shape[0]}\")"
      ],
      "execution_count": 24,
      "outputs": [
        {
          "output_type": "stream",
          "text": [
            "Number of images in training data is 6800\n",
            "Number of images in validation data is 1200\n"
          ],
          "name": "stdout"
        }
      ]
    },
    {
      "metadata": {
        "id": "3ZmkF_ZDpl7e",
        "colab_type": "text"
      },
      "cell_type": "markdown",
      "source": [
        "Randomly plotting any image from the dataset"
      ]
    },
    {
      "metadata": {
        "id": "bXXhm7Mx5Mwl",
        "colab_type": "code",
        "outputId": "90e5d3cf-0b1d-424b-d73f-dad9453ed6eb",
        "colab": {
          "base_uri": "https://localhost:8080/",
          "height": 364
        }
      },
      "cell_type": "code",
      "source": [
        "plt.imshow(x_train[100].reshape((28,28)))"
      ],
      "execution_count": 25,
      "outputs": [
        {
          "output_type": "execute_result",
          "data": {
            "text/plain": [
              "<matplotlib.image.AxesImage at 0x7f07b02e62b0>"
            ]
          },
          "metadata": {
            "tags": []
          },
          "execution_count": 25
        },
        {
          "output_type": "display_data",
          "data": {
            "image/png": "[encoded data removed]",
            "text/plain": [
              "<Figure size 576x396 with 1 Axes>"
            ]
          },
          "metadata": {
            "tags": []
          }
        }
      ]
    },
    {
      "metadata": {
        "id": "su3Lnw6SppXT",
        "colab_type": "text"
      },
      "cell_type": "markdown",
      "source": [
        "### Creating the model\n",
        "\n",
        "For the classification tasks, Convolutional Neural Networks work best.\n",
        "\n",
        "We create a CNN using the Keras Sequential API.\n",
        "\n",
        "The model is a very deep neural net with - \n",
        "\n",
        " * 2D Convolutional layers activated by relu function.\n",
        "\n",
        "* BatchNormalization layers  so that the model converges better. BatchNormalization is used to normalise the intermediate values inside the network.\n",
        "\n",
        "* Dropout Layers are used to switch off some neurons at random. It helps to reduce overfitting.\n",
        "\n",
        "* MaxPooling is used to reduce the spatial size of our data. It reduces the amount of parameters and helps in reducing computational time.\n",
        "\n",
        "* Dense layers making a fully connected network for serving our predictions. Activated by softmax.  Since there are 4 classes, last Dense layer has 4 neurons only"
      ]
    },
    {
      "metadata": {
        "id": "rbljfNrm5QMi",
        "colab_type": "code",
        "colab": {
          "base_uri": "https://localhost:8080/",
          "height": 159
        },
        "outputId": "950dbe83-613c-416f-ceab-218bbf846742"
      },
      "cell_type": "code",
      "source": [
        "from keras.layers import LeakyReLU\n",
        "\n",
        "model = Sequential([\n",
        "    Conv2D(filters=32, kernel_size=(3,3), padding='Same', activation='relu', input_shape=(28,28,1)),\n",
        "    BatchNormalization(),\n",
        "    Conv2D(filters=32, kernel_size=(3,3), padding='Same', activation='relu'),\n",
        "    BatchNormalization(),\n",
        "    Conv2D(filters=32, kernel_size=(3,3), padding='Same', activation='relu'),\n",
        "    BatchNormalization(),\n",
        "    MaxPool2D(pool_size=(2,2)),\n",
        "    Dropout(0.2),\n",
        "    \n",
        "#     Conv2D(filters=64, kernel_size=(3,3), padding='Same', activation='relu'),\n",
        "#     BatchNormalization(),\n",
        "#     Conv2D(filters=64, kernel_size=(3,3), padding='Same', activation='relu'),\n",
        "#     BatchNormalization(),\n",
        "    Conv2D(filters=64, kernel_size=(3,3), padding='Same', activation='relu'),\n",
        "    BatchNormalization(),\n",
        "    MaxPool2D(pool_size=(2,2), strides=(2,2)),\n",
        "    Dropout(0.2),\n",
        "\n",
        "# #     Conv2D(filters=64, kernel_size=(3,3), padding='Same', activation='relu'),\n",
        "# #     BatchNormalization(),\n",
        "# #     Conv2D(filters=64, kernel_size=(3,3), padding='Same', activation='relu'),\n",
        "# #     BatchNormalization(),\n",
        "# #     Conv2D(filters=64, kernel_size=(3,3), padding='Same', activation='relu'),\n",
        "# #     BatchNormalization(),\n",
        "# #     MaxPool2D(pool_size=(2,2), strides=(2,2)),\n",
        "# #     Dropout(0.2),\n",
        "    \n",
        "    Conv2D(filters=64, kernel_size=(3,3), padding='Same', activation='relu'),\n",
        "    BatchNormalization(),\n",
        "    Conv2D(filters=64, kernel_size=(3,3), padding='Same', activation='relu'),\n",
        "    BatchNormalization(),\n",
        "    Conv2D(filters=64, kernel_size=(3,3), padding='Same', activation='relu'),\n",
        "    BatchNormalization(),\n",
        "    MaxPool2D(pool_size=(2,2), strides=(2,2)),\n",
        "    Dropout(0.2),\n",
        "    \n",
        "    Flatten(),\n",
        "    Dense(256, activation='relu'),\n",
        "    Dropout(0.2),\n",
        "    Dense(256),\n",
        "    LeakyReLU(alpha=0.05),\n",
        "    Dropout(0.1),\n",
        "    Dense(4, activation='softmax')\n",
        "    \n",
        "])\n"
      ],
      "execution_count": 26,
      "outputs": [
        {
          "output_type": "stream",
          "text": [
            "WARNING:tensorflow:From /usr/local/lib/python3.6/dist-packages/tensorflow/python/framework/op_def_library.py:263: colocate_with (from tensorflow.python.framework.ops) is deprecated and will be removed in a future version.\n",
            "Instructions for updating:\n",
            "Colocations handled automatically by placer.\n",
            "WARNING:tensorflow:From /usr/local/lib/python3.6/dist-packages/keras/backend/tensorflow_backend.py:3445: calling dropout (from tensorflow.python.ops.nn_ops) with keep_prob is deprecated and will be removed in a future version.\n",
            "Instructions for updating:\n",
            "Please use `rate` instead of `keep_prob`. Rate should be set to `rate = 1 - keep_prob`.\n"
          ],
          "name": "stdout"
        }
      ]
    },
    {
      "metadata": {
        "id": "66kxxe1d58HJ",
        "colab_type": "code",
        "outputId": "e1e229a1-24de-4a2d-ad72-c9d5b02f86f9",
        "colab": {
          "base_uri": "https://localhost:8080/",
          "height": 1054
        }
      },
      "cell_type": "code",
      "source": [
        "model.summary()"
      ],
      "execution_count": 27,
      "outputs": [
        {
          "output_type": "stream",
          "text": [
            "_________________________________________________________________\n",
            "Layer (type)                 Output Shape              Param #   \n",
            "=================================================================\n",
            "conv2d_1 (Conv2D)            (None, 28, 28, 32)        320       \n",
            "_________________________________________________________________\n",
            "batch_normalization_1 (Batch (None, 28, 28, 32)        128       \n",
            "_________________________________________________________________\n",
            "conv2d_2 (Conv2D)            (None, 28, 28, 32)        9248      \n",
            "_________________________________________________________________\n",
            "batch_normalization_2 (Batch (None, 28, 28, 32)        128       \n",
            "_________________________________________________________________\n",
            "conv2d_3 (Conv2D)            (None, 28, 28, 32)        9248      \n",
            "_________________________________________________________________\n",
            "batch_normalization_3 (Batch (None, 28, 28, 32)        128       \n",
            "_________________________________________________________________\n",
            "max_pooling2d_1 (MaxPooling2 (None, 14, 14, 32)        0         \n",
            "_________________________________________________________________\n",
            "dropout_1 (Dropout)          (None, 14, 14, 32)        0         \n",
            "_________________________________________________________________\n",
            "conv2d_4 (Conv2D)            (None, 14, 14, 64)        18496     \n",
            "_________________________________________________________________\n",
            "batch_normalization_4 (Batch (None, 14, 14, 64)        256       \n",
            "_________________________________________________________________\n",
            "max_pooling2d_2 (MaxPooling2 (None, 7, 7, 64)          0         \n",
            "_________________________________________________________________\n",
            "dropout_2 (Dropout)          (None, 7, 7, 64)          0         \n",
            "_________________________________________________________________\n",
            "conv2d_5 (Conv2D)            (None, 7, 7, 64)          36928     \n",
            "_________________________________________________________________\n",
            "batch_normalization_5 (Batch (None, 7, 7, 64)          256       \n",
            "_________________________________________________________________\n",
            "conv2d_6 (Conv2D)            (None, 7, 7, 64)          36928     \n",
            "_________________________________________________________________\n",
            "batch_normalization_6 (Batch (None, 7, 7, 64)          256       \n",
            "_________________________________________________________________\n",
            "conv2d_7 (Conv2D)            (None, 7, 7, 64)          36928     \n",
            "_________________________________________________________________\n",
            "batch_normalization_7 (Batch (None, 7, 7, 64)          256       \n",
            "_________________________________________________________________\n",
            "max_pooling2d_3 (MaxPooling2 (None, 3, 3, 64)          0         \n",
            "_________________________________________________________________\n",
            "dropout_3 (Dropout)          (None, 3, 3, 64)          0         \n",
            "_________________________________________________________________\n",
            "flatten_1 (Flatten)          (None, 576)               0         \n",
            "_________________________________________________________________\n",
            "dense_1 (Dense)              (None, 256)               147712    \n",
            "_________________________________________________________________\n",
            "dropout_4 (Dropout)          (None, 256)               0         \n",
            "_________________________________________________________________\n",
            "dense_2 (Dense)              (None, 256)               65792     \n",
            "_________________________________________________________________\n",
            "leaky_re_lu_1 (LeakyReLU)    (None, 256)               0         \n",
            "_________________________________________________________________\n",
            "dropout_5 (Dropout)          (None, 256)               0         \n",
            "_________________________________________________________________\n",
            "dense_3 (Dense)              (None, 4)                 1028      \n",
            "=================================================================\n",
            "Total params: 364,036\n",
            "Trainable params: 363,332\n",
            "Non-trainable params: 704\n",
            "_________________________________________________________________\n"
          ],
          "name": "stdout"
        }
      ]
    },
    {
      "metadata": {
        "id": "ATFxnH9R5-Sx",
        "colab_type": "code",
        "colab": {}
      },
      "cell_type": "code",
      "source": [
        "optimizer = RMSprop(lr=0.001, rho=0.9, epsilon=1e-08, decay=0.0)\n",
        "# optimizer = keras.optimizers.Adam(lr=0.001, beta_1=0.9, beta_2=0.999, epsilon=1e-08, decay=0.0, amsgrad=False)"
      ],
      "execution_count": 0,
      "outputs": []
    },
    {
      "metadata": {
        "id": "9s87-bHh6Her",
        "colab_type": "code",
        "colab": {}
      },
      "cell_type": "code",
      "source": [
        "from keras.utils.vis_utils import plot_model\n",
        "plot_model(model, to_file='model_plot.png', show_shapes=True, show_layer_names=True)"
      ],
      "execution_count": 0,
      "outputs": []
    },
    {
      "metadata": {
        "id": "9JTxAddZ6P-4",
        "colab_type": "code",
        "outputId": "a133d39b-9f82-412e-d95b-f3a9e7d52485",
        "colab": {
          "base_uri": "https://localhost:8080/",
          "height": 3065
        }
      },
      "cell_type": "code",
      "source": [
        "from IPython.display import Image\n",
        "Image('model_plot.png')\n"
      ],
      "execution_count": 30,
      "outputs": [
        {
          "output_type": "execute_result",
          "data": {
            "image/png": "[encoded data removed]",
            "text/plain": [
              "<IPython.core.display.Image object>"
            ]
          },
          "metadata": {
            "tags": []
          },
          "execution_count": 30
        }
      ]
    },
    {
      "metadata": {
        "id": "Wev30w6hraJ_",
        "colab_type": "text"
      },
      "cell_type": "markdown",
      "source": [
        "\n",
        "\n",
        "\n",
        "\n",
        "\n",
        "**Categorical cross entropy loss function is used because we are classifying images in 4 different categories one-hot encoded into vectors**\n",
        "\n",
        "```\n",
        "RMSprop optimization algorithm is used to avoid exploding and vanishing gradients\n",
        "```"
      ]
    },
    {
      "metadata": {
        "id": "Gr6tFUvo6dnX",
        "colab_type": "code",
        "colab": {}
      },
      "cell_type": "code",
      "source": [
        "model.compile(optimizer=optimizer, loss='categorical_crossentropy', metrics=['accuracy'])\n",
        "# model.compile(optimizer='adam', loss='categorical_crossentropy', metrics=['accuracy'])"
      ],
      "execution_count": 0,
      "outputs": []
    },
    {
      "metadata": {
        "id": "w1NcxNpurw_l",
        "colab_type": "text"
      },
      "cell_type": "markdown",
      "source": [
        "**This callback is used to dynamically change the learning rate of the neural net.\n",
        "If no improvement is seen in the validation accuracy for 3 epochs it reduces the learning rate. **"
      ]
    },
    {
      "metadata": {
        "id": "gWjHCc6-6rGg",
        "colab_type": "code",
        "colab": {}
      },
      "cell_type": "code",
      "source": [
        "learning_rate_reduction = ReduceLROnPlateau(monitor='val_acc',\n",
        "                                           patience=3,\n",
        "                                           verbose=2,\n",
        "                                           factor=0.5,\n",
        "                                           min_lr=0.00001)"
      ],
      "execution_count": 0,
      "outputs": []
    },
    {
      "metadata": {
        "id": "pYx8eIcusQvh",
        "colab_type": "text"
      },
      "cell_type": "markdown",
      "source": [
        "The model is trained for 30 epochs with a batch size of 86 images per epoch"
      ]
    },
    {
      "metadata": {
        "id": "DJSG1UZ36sJK",
        "colab_type": "code",
        "colab": {}
      },
      "cell_type": "code",
      "source": [
        "epochs = 30\n",
        "batch_size = 86"
      ],
      "execution_count": 0,
      "outputs": []
    },
    {
      "metadata": {
        "id": "X-RZxB508S1G",
        "colab_type": "code",
        "colab": {}
      },
      "cell_type": "code",
      "source": [
        "# from keras.callbacks import EarlyStopping\n",
        "#set early stopping monitor so the model stops training when it won't improve anymore\n",
        "# early_stopping_monitor = EarlyStopping(patience=5, verbose=2)\n",
        "#train model\n",
        "# model.fit(train_X, train_y, validation_split=0.2, epochs=30, callbacks=[early_stopping_monitor])"
      ],
      "execution_count": 0,
      "outputs": []
    },
    {
      "metadata": {
        "id": "v5pM-EtssVdt",
        "colab_type": "text"
      },
      "cell_type": "markdown",
      "source": [
        "### Data Augmentation\n",
        "\n",
        "Data augmentation is a very important process in computer vision tasks\n",
        "\n",
        "The images are randomly zoomed in and rotated, and shifted so that the model does not overfit"
      ]
    },
    {
      "metadata": {
        "id": "G1EUlj_66uBq",
        "colab_type": "code",
        "colab": {}
      },
      "cell_type": "code",
      "source": [
        "datagen = ImageDataGenerator(featurewise_center=False,\n",
        "                            samplewise_center=False,\n",
        "                            featurewise_std_normalization=False,\n",
        "                            samplewise_std_normalization=False,\n",
        "                            zca_whitening=False,\n",
        "                            rotation_range=0,\n",
        "                            zoom_range=0.01,\n",
        "                            width_shift_range=0.03,\n",
        "                            height_shift_range=0.03,\n",
        "                            horizontal_flip=False,\n",
        "                            vertical_flip=False)\n",
        "datagen.fit(x_train)"
      ],
      "execution_count": 0,
      "outputs": []
    },
    {
      "metadata": {
        "id": "VrX_799-sgoB",
        "colab_type": "text"
      },
      "cell_type": "markdown",
      "source": [
        "### Training the model"
      ]
    },
    {
      "metadata": {
        "id": "3KkhwHpx6vkK",
        "colab_type": "code",
        "outputId": "6c31ee01-bd17-40e5-a255-0a91f3eb35f8",
        "colab": {
          "base_uri": "https://localhost:8080/",
          "height": 1312
        }
      },
      "cell_type": "code",
      "source": [
        "history = model.fit_generator(datagen.flow(x_train, y_train, batch_size=batch_size),\n",
        "                             epochs=epochs,\n",
        "                             validation_data=(x_val, y_val),\n",
        "                             verbose=2,\n",
        "                             steps_per_epoch = x_train.shape[0]//batch_size,\n",
        "                             callbacks=[learning_rate_reduction])"
      ],
      "execution_count": 36,
      "outputs": [
        {
          "output_type": "stream",
          "text": [
            "WARNING:tensorflow:From /usr/local/lib/python3.6/dist-packages/tensorflow/python/ops/math_ops.py:3066: to_int32 (from tensorflow.python.ops.math_ops) is deprecated and will be removed in a future version.\n",
            "Instructions for updating:\n",
            "Use tf.cast instead.\n",
            "Epoch 1/30\n",
            " - 7s - loss: 0.9460 - acc: 0.6283 - val_loss: 0.7670 - val_acc: 0.7358\n",
            "Epoch 2/30\n",
            " - 3s - loss: 0.6306 - acc: 0.7400 - val_loss: 0.5060 - val_acc: 0.7942\n",
            "Epoch 3/30\n",
            " - 3s - loss: 0.5290 - acc: 0.7858 - val_loss: 0.5086 - val_acc: 0.7942\n",
            "Epoch 4/30\n",
            " - 3s - loss: 0.4758 - acc: 0.8062 - val_loss: 0.3865 - val_acc: 0.8342\n",
            "Epoch 5/30\n",
            " - 3s - loss: 0.4263 - acc: 0.8351 - val_loss: 0.3836 - val_acc: 0.8558\n",
            "Epoch 6/30\n",
            " - 3s - loss: 0.4094 - acc: 0.8404 - val_loss: 0.3584 - val_acc: 0.8550\n",
            "Epoch 7/30\n",
            " - 3s - loss: 0.3796 - acc: 0.8510 - val_loss: 0.3993 - val_acc: 0.8392\n",
            "Epoch 8/30\n",
            " - 3s - loss: 0.3709 - acc: 0.8557 - val_loss: 0.3630 - val_acc: 0.8533\n",
            "\n",
            "Epoch 00008: ReduceLROnPlateau reducing learning rate to 0.0005000000237487257.\n",
            "Epoch 9/30\n",
            " - 3s - loss: 0.3063 - acc: 0.8840 - val_loss: 0.3155 - val_acc: 0.8792\n",
            "Epoch 10/30\n",
            " - 3s - loss: 0.3033 - acc: 0.8825 - val_loss: 0.3254 - val_acc: 0.8767\n",
            "Epoch 11/30\n",
            " - 3s - loss: 0.2927 - acc: 0.8822 - val_loss: 0.3397 - val_acc: 0.8608\n",
            "Epoch 12/30\n",
            " - 3s - loss: 0.2803 - acc: 0.8921 - val_loss: 0.3052 - val_acc: 0.8783\n",
            "\n",
            "Epoch 00012: ReduceLROnPlateau reducing learning rate to 0.0002500000118743628.\n",
            "Epoch 13/30\n",
            " - 3s - loss: 0.2626 - acc: 0.8974 - val_loss: 0.2947 - val_acc: 0.8750\n",
            "Epoch 14/30\n",
            " - 3s - loss: 0.2344 - acc: 0.9033 - val_loss: 0.2997 - val_acc: 0.8742\n",
            "Epoch 15/30\n",
            " - 3s - loss: 0.2303 - acc: 0.9106 - val_loss: 0.2922 - val_acc: 0.8767\n",
            "\n",
            "Epoch 00015: ReduceLROnPlateau reducing learning rate to 0.0001250000059371814.\n",
            "Epoch 16/30\n",
            " - 3s - loss: 0.2220 - acc: 0.9171 - val_loss: 0.2896 - val_acc: 0.8825\n",
            "Epoch 17/30\n",
            " - 3s - loss: 0.2119 - acc: 0.9162 - val_loss: 0.2903 - val_acc: 0.8792\n",
            "Epoch 18/30\n",
            " - 3s - loss: 0.2208 - acc: 0.9121 - val_loss: 0.2912 - val_acc: 0.8850\n",
            "Epoch 19/30\n",
            " - 3s - loss: 0.2103 - acc: 0.9155 - val_loss: 0.2868 - val_acc: 0.8792\n",
            "Epoch 20/30\n",
            " - 3s - loss: 0.2079 - acc: 0.9170 - val_loss: 0.2938 - val_acc: 0.8825\n",
            "Epoch 21/30\n",
            " - 3s - loss: 0.1976 - acc: 0.9202 - val_loss: 0.3053 - val_acc: 0.8833\n",
            "\n",
            "Epoch 00021: ReduceLROnPlateau reducing learning rate to 6.25000029685907e-05.\n",
            "Epoch 22/30\n",
            " - 3s - loss: 0.2044 - acc: 0.9234 - val_loss: 0.2911 - val_acc: 0.8783\n",
            "Epoch 23/30\n",
            " - 3s - loss: 0.2050 - acc: 0.9172 - val_loss: 0.2864 - val_acc: 0.8833\n",
            "Epoch 24/30\n",
            " - 3s - loss: 0.1925 - acc: 0.9195 - val_loss: 0.3007 - val_acc: 0.8808\n",
            "\n",
            "Epoch 00024: ReduceLROnPlateau reducing learning rate to 3.125000148429535e-05.\n",
            "Epoch 25/30\n",
            " - 3s - loss: 0.1875 - acc: 0.9262 - val_loss: 0.2982 - val_acc: 0.8800\n",
            "Epoch 26/30\n",
            " - 3s - loss: 0.1909 - acc: 0.9267 - val_loss: 0.2966 - val_acc: 0.8792\n",
            "Epoch 27/30\n",
            " - 3s - loss: 0.1839 - acc: 0.9273 - val_loss: 0.2917 - val_acc: 0.8858\n",
            "Epoch 28/30\n",
            " - 3s - loss: 0.1929 - acc: 0.9228 - val_loss: 0.2964 - val_acc: 0.8833\n",
            "Epoch 29/30\n",
            " - 3s - loss: 0.1838 - acc: 0.9255 - val_loss: 0.3014 - val_acc: 0.8833\n",
            "Epoch 30/30\n",
            " - 3s - loss: 0.1887 - acc: 0.9261 - val_loss: 0.2991 - val_acc: 0.8842\n",
            "\n",
            "Epoch 00030: ReduceLROnPlateau reducing learning rate to 1.5625000742147677e-05.\n"
          ],
          "name": "stdout"
        }
      ]
    },
    {
      "metadata": {
        "id": "hqIB_YCjsjar",
        "colab_type": "text"
      },
      "cell_type": "markdown",
      "source": [
        "### Evaluating the model"
      ]
    },
    {
      "metadata": {
        "id": "labiRTAT937H",
        "colab_type": "code",
        "outputId": "095bcd23-acf7-4faa-b86e-168b3ddcf70c",
        "colab": {
          "base_uri": "https://localhost:8080/",
          "height": 347
        }
      },
      "cell_type": "code",
      "source": [
        "fig, ax = plt.subplots(2,1)\n",
        "ax[0].plot(history.history['loss'], color='b', label='Training loss')\n",
        "ax[0].plot(history.history['val_loss'], color='r', label='Validation Loss', axes=ax[0])\n",
        "legend = ax[0].legend(loc='best', shadow=True)\n",
        "\n",
        "ax[1].plot(history.history['acc'], color='b', label='Training accuracy')\n",
        "ax[1].plot(history.history['val_acc'], color='r', label='Validation Accuracy')\n",
        "legend = ax[1].legend(loc='best', shadow='True')"
      ],
      "execution_count": 37,
      "outputs": [
        {
          "output_type": "display_data",
          "data": {
            "image/png": "[encoded data removed]",
            "text/plain": [
              "<Figure size 576x396 with 2 Axes>"
            ]
          },
          "metadata": {
            "tags": []
          }
        }
      ]
    },
    {
      "metadata": {
        "id": "HoPyVhqnZzQe",
        "colab_type": "text"
      },
      "cell_type": "markdown",
      "source": [
        "- Make predictions from trained model for validation data.\n",
        "- np.argmax returns index of the highest value from the predictions numpy array.\n",
        "- Plotting the confusion matrix using seaborn"
      ]
    },
    {
      "metadata": {
        "id": "ruuL5BNmAOZr",
        "colab_type": "code",
        "colab": {}
      },
      "cell_type": "code",
      "source": [
        "y_pred = model.predict(x_val)\n",
        "y_pred_classes = np.argmax(y_pred, axis=1)\n",
        "\n",
        "y_true = np.argmax(y_val, axis=1)\n",
        "\n",
        "cm = confusion_matrix(y_true, y_pred_classes)"
      ],
      "execution_count": 0,
      "outputs": []
    },
    {
      "metadata": {
        "id": "AkeUBKrksmNx",
        "colab_type": "text"
      },
      "cell_type": "markdown",
      "source": [
        "As we can see, Class 1 is most accurately predicted with fairly good predictions for other classes as well"
      ]
    },
    {
      "metadata": {
        "id": "1YxTRRq_BKKt",
        "colab_type": "code",
        "outputId": "2f6c19bd-16fd-408e-dc10-dcbc2f708d60",
        "colab": {
          "base_uri": "https://localhost:8080/",
          "height": 361
        }
      },
      "cell_type": "code",
      "source": [
        "sns.heatmap(cm, annot=True, fmt='d')\n",
        "plt.xlabel('Predicted Label')\n",
        "plt.ylabel('True Label')\n",
        "plt.show()"
      ],
      "execution_count": 39,
      "outputs": [
        {
          "output_type": "display_data",
          "data": {
            "image/png": "[encoded data removed]",
            "text/plain": [
              "<Figure size 576x396 with 2 Axes>"
            ]
          },
          "metadata": {
            "tags": []
          }
        }
      ]
    },
    {
      "metadata": {
        "id": "W0SA-QCks9j_",
        "colab_type": "code",
        "colab": {
          "base_uri": "https://localhost:8080/",
          "height": 221
        },
        "outputId": "3ce2c585-84c5-49cd-f2de-37858c910ebb"
      },
      "cell_type": "code",
      "source": [
        "from sklearn.metrics import classification_report, accuracy_score\n",
        "target_names = [\"Class {}\".format(i) for i in range(4)]\n",
        "print(classification_report(y_true, y_pred_classes, target_names=target_names))\n",
        "\n",
        "print(f'Accuracy : {accuracy_score(y_true, y_pred_classes)}')"
      ],
      "execution_count": 42,
      "outputs": [
        {
          "output_type": "stream",
          "text": [
            "              precision    recall  f1-score   support\n",
            "\n",
            "     Class 0       0.90      0.81      0.85       297\n",
            "     Class 1       0.93      0.91      0.92       319\n",
            "     Class 2       0.95      0.97      0.96       294\n",
            "     Class 3       0.77      0.84      0.80       290\n",
            "\n",
            "   micro avg       0.88      0.88      0.88      1200\n",
            "   macro avg       0.89      0.88      0.88      1200\n",
            "weighted avg       0.89      0.88      0.88      1200\n",
            "\n",
            "Accuracy : 0.8841666666666667\n"
          ],
          "name": "stdout"
        }
      ]
    },
    {
      "metadata": {
        "id": "r9sPNP6_xHLe",
        "colab_type": "text"
      },
      "cell_type": "markdown",
      "source": [
        "Precision is highest for Class 2, i.e., class 3 in our training dataset.\n",
        "\n",
        "Class 3(i.e. class 6) performs the worst in this classification task."
      ]
    },
    {
      "metadata": {
        "id": "3JXfJC4KnroH",
        "colab_type": "text"
      },
      "cell_type": "markdown",
      "source": [
        "### Making predictions\n"
      ]
    },
    {
      "metadata": {
        "id": "JLkn3PsxBu0y",
        "colab_type": "code",
        "outputId": "83298866-1d3f-441e-96da-171f6848cd40",
        "colab": {
          "base_uri": "https://localhost:8080/",
          "height": 34
        }
      },
      "cell_type": "code",
      "source": [
        "y_pred_classes.shape"
      ],
      "execution_count": 43,
      "outputs": [
        {
          "output_type": "execute_result",
          "data": {
            "text/plain": [
              "(1200,)"
            ]
          },
          "metadata": {
            "tags": []
          },
          "execution_count": 43
        }
      ]
    },
    {
      "metadata": {
        "id": "SZpPj_GvCEN2",
        "colab_type": "code",
        "outputId": "e3756db1-9a8d-45fc-dee1-dce2a400336a",
        "colab": {
          "base_uri": "https://localhost:8080/",
          "height": 34
        }
      },
      "cell_type": "code",
      "source": [
        "x_val.shape"
      ],
      "execution_count": 44,
      "outputs": [
        {
          "output_type": "execute_result",
          "data": {
            "text/plain": [
              "(1200, 28, 28, 1)"
            ]
          },
          "metadata": {
            "tags": []
          },
          "execution_count": 44
        }
      ]
    },
    {
      "metadata": {
        "id": "GxB5ev-tCFZJ",
        "colab_type": "code",
        "colab": {}
      },
      "cell_type": "code",
      "source": [
        "with open('drive/My Drive/Vision_task_dataset_public/test_image.pkl', 'rb') as f:\n",
        "  test_image = pickle.load(f)"
      ],
      "execution_count": 0,
      "outputs": []
    },
    {
      "metadata": {
        "id": "KBIY8t_NCG50",
        "colab_type": "code",
        "colab": {}
      },
      "cell_type": "code",
      "source": [
        "test = (np.array(test_image).reshape(-1, 28, 28, 1))/255.0"
      ],
      "execution_count": 0,
      "outputs": []
    },
    {
      "metadata": {
        "id": "0XB3-gKQCOI4",
        "colab_type": "code",
        "outputId": "7ec25f4a-391c-4645-a957-e71de6d37bd1",
        "colab": {
          "base_uri": "https://localhost:8080/",
          "height": 34
        }
      },
      "cell_type": "code",
      "source": [
        "test.shape"
      ],
      "execution_count": 47,
      "outputs": [
        {
          "output_type": "execute_result",
          "data": {
            "text/plain": [
              "(2000, 28, 28, 1)"
            ]
          },
          "metadata": {
            "tags": []
          },
          "execution_count": 47
        }
      ]
    },
    {
      "metadata": {
        "id": "Qx1DI3nTCO8w",
        "colab_type": "code",
        "colab": {}
      },
      "cell_type": "code",
      "source": [
        "results = model.predict(test)"
      ],
      "execution_count": 0,
      "outputs": []
    },
    {
      "metadata": {
        "id": "AU36o55UCSNb",
        "colab_type": "code",
        "colab": {}
      },
      "cell_type": "code",
      "source": [
        "results = np.argmax(results, axis=1)"
      ],
      "execution_count": 0,
      "outputs": []
    },
    {
      "metadata": {
        "id": "Opk_3CVUCVJ-",
        "colab_type": "code",
        "colab": {}
      },
      "cell_type": "code",
      "source": [
        "test_results = pd.DataFrame(test_image)"
      ],
      "execution_count": 0,
      "outputs": []
    },
    {
      "metadata": {
        "id": "64wMjM9fCvvE",
        "colab_type": "code",
        "outputId": "0abd4b70-a4fa-43cd-d003-b07699f79027",
        "colab": {
          "base_uri": "https://localhost:8080/",
          "height": 233
        }
      },
      "cell_type": "code",
      "source": [
        "test_results.head()"
      ],
      "execution_count": 51,
      "outputs": [
        {
          "output_type": "execute_result",
          "data": {
            "text/html": [
              "<div>\n",
              "<style scoped>\n",
              "    .dataframe tbody tr th:only-of-type {\n",
              "        vertical-align: middle;\n",
              "    }\n",
              "\n",
              "    .dataframe tbody tr th {\n",
              "        vertical-align: top;\n",
              "    }\n",
              "\n",
              "    .dataframe thead th {\n",
              "        text-align: right;\n",
              "    }\n",
              "</style>\n",
              "<table border=\"1\" class=\"dataframe\">\n",
              "  <thead>\n",
              "    <tr style=\"text-align: right;\">\n",
              "      <th></th>\n",
              "      <th>0</th>\n",
              "      <th>1</th>\n",
              "      <th>2</th>\n",
              "      <th>3</th>\n",
              "      <th>4</th>\n",
              "      <th>5</th>\n",
              "      <th>6</th>\n",
              "      <th>7</th>\n",
              "      <th>8</th>\n",
              "      <th>9</th>\n",
              "      <th>...</th>\n",
              "      <th>774</th>\n",
              "      <th>775</th>\n",
              "      <th>776</th>\n",
              "      <th>777</th>\n",
              "      <th>778</th>\n",
              "      <th>779</th>\n",
              "      <th>780</th>\n",
              "      <th>781</th>\n",
              "      <th>782</th>\n",
              "      <th>783</th>\n",
              "    </tr>\n",
              "  </thead>\n",
              "  <tbody>\n",
              "    <tr>\n",
              "      <th>0</th>\n",
              "      <td>0</td>\n",
              "      <td>0</td>\n",
              "      <td>0</td>\n",
              "      <td>0</td>\n",
              "      <td>0</td>\n",
              "      <td>0</td>\n",
              "      <td>0</td>\n",
              "      <td>0</td>\n",
              "      <td>0</td>\n",
              "      <td>52</td>\n",
              "      <td>...</td>\n",
              "      <td>187</td>\n",
              "      <td>173</td>\n",
              "      <td>148</td>\n",
              "      <td>0</td>\n",
              "      <td>0</td>\n",
              "      <td>1</td>\n",
              "      <td>0</td>\n",
              "      <td>0</td>\n",
              "      <td>0</td>\n",
              "      <td>0</td>\n",
              "    </tr>\n",
              "    <tr>\n",
              "      <th>1</th>\n",
              "      <td>0</td>\n",
              "      <td>0</td>\n",
              "      <td>0</td>\n",
              "      <td>0</td>\n",
              "      <td>0</td>\n",
              "      <td>0</td>\n",
              "      <td>0</td>\n",
              "      <td>0</td>\n",
              "      <td>0</td>\n",
              "      <td>74</td>\n",
              "      <td>...</td>\n",
              "      <td>105</td>\n",
              "      <td>15</td>\n",
              "      <td>0</td>\n",
              "      <td>0</td>\n",
              "      <td>0</td>\n",
              "      <td>0</td>\n",
              "      <td>0</td>\n",
              "      <td>0</td>\n",
              "      <td>0</td>\n",
              "      <td>0</td>\n",
              "    </tr>\n",
              "    <tr>\n",
              "      <th>2</th>\n",
              "      <td>0</td>\n",
              "      <td>0</td>\n",
              "      <td>0</td>\n",
              "      <td>0</td>\n",
              "      <td>0</td>\n",
              "      <td>0</td>\n",
              "      <td>0</td>\n",
              "      <td>0</td>\n",
              "      <td>0</td>\n",
              "      <td>0</td>\n",
              "      <td>...</td>\n",
              "      <td>34</td>\n",
              "      <td>33</td>\n",
              "      <td>14</td>\n",
              "      <td>0</td>\n",
              "      <td>1</td>\n",
              "      <td>0</td>\n",
              "      <td>0</td>\n",
              "      <td>0</td>\n",
              "      <td>0</td>\n",
              "      <td>0</td>\n",
              "    </tr>\n",
              "    <tr>\n",
              "      <th>3</th>\n",
              "      <td>0</td>\n",
              "      <td>0</td>\n",
              "      <td>0</td>\n",
              "      <td>0</td>\n",
              "      <td>0</td>\n",
              "      <td>0</td>\n",
              "      <td>0</td>\n",
              "      <td>0</td>\n",
              "      <td>0</td>\n",
              "      <td>18</td>\n",
              "      <td>...</td>\n",
              "      <td>54</td>\n",
              "      <td>51</td>\n",
              "      <td>63</td>\n",
              "      <td>34</td>\n",
              "      <td>0</td>\n",
              "      <td>1</td>\n",
              "      <td>0</td>\n",
              "      <td>0</td>\n",
              "      <td>0</td>\n",
              "      <td>0</td>\n",
              "    </tr>\n",
              "    <tr>\n",
              "      <th>4</th>\n",
              "      <td>0</td>\n",
              "      <td>0</td>\n",
              "      <td>0</td>\n",
              "      <td>0</td>\n",
              "      <td>0</td>\n",
              "      <td>0</td>\n",
              "      <td>0</td>\n",
              "      <td>26</td>\n",
              "      <td>64</td>\n",
              "      <td>134</td>\n",
              "      <td>...</td>\n",
              "      <td>41</td>\n",
              "      <td>41</td>\n",
              "      <td>37</td>\n",
              "      <td>35</td>\n",
              "      <td>36</td>\n",
              "      <td>36</td>\n",
              "      <td>0</td>\n",
              "      <td>0</td>\n",
              "      <td>0</td>\n",
              "      <td>0</td>\n",
              "    </tr>\n",
              "  </tbody>\n",
              "</table>\n",
              "<p>5 rows × 784 columns</p>\n",
              "</div>"
            ],
            "text/plain": [
              "   0    1    2    3    4    5    6    7    8    9   ...   774  775  776  777  \\\n",
              "0    0    0    0    0    0    0    0    0    0   52 ...   187  173  148    0   \n",
              "1    0    0    0    0    0    0    0    0    0   74 ...   105   15    0    0   \n",
              "2    0    0    0    0    0    0    0    0    0    0 ...    34   33   14    0   \n",
              "3    0    0    0    0    0    0    0    0    0   18 ...    54   51   63   34   \n",
              "4    0    0    0    0    0    0    0   26   64  134 ...    41   41   37   35   \n",
              "\n",
              "   778  779  780  781  782  783  \n",
              "0    0    1    0    0    0    0  \n",
              "1    0    0    0    0    0    0  \n",
              "2    1    0    0    0    0    0  \n",
              "3    0    1    0    0    0    0  \n",
              "4   36   36    0    0    0    0  \n",
              "\n",
              "[5 rows x 784 columns]"
            ]
          },
          "metadata": {
            "tags": []
          },
          "execution_count": 51
        }
      ]
    },
    {
      "metadata": {
        "id": "9z4_jO1LCx2L",
        "colab_type": "code",
        "outputId": "223c7719-951a-4667-de0d-7c402d923724",
        "colab": {
          "base_uri": "https://localhost:8080/",
          "height": 34
        }
      },
      "cell_type": "code",
      "source": [
        "test_results.shape"
      ],
      "execution_count": 52,
      "outputs": [
        {
          "output_type": "execute_result",
          "data": {
            "text/plain": [
              "(2000, 784)"
            ]
          },
          "metadata": {
            "tags": []
          },
          "execution_count": 52
        }
      ]
    },
    {
      "metadata": {
        "id": "onEwglXzC05Y",
        "colab_type": "code",
        "colab": {}
      },
      "cell_type": "code",
      "source": [
        "test_results['class'] = results"
      ],
      "execution_count": 0,
      "outputs": []
    },
    {
      "metadata": {
        "id": "ttCh5saZC9YI",
        "colab_type": "code",
        "outputId": "f6baeba6-62f9-4938-c6b0-7c86899270c9",
        "colab": {
          "base_uri": "https://localhost:8080/",
          "height": 233
        }
      },
      "cell_type": "code",
      "source": [
        "test_results.head()"
      ],
      "execution_count": 54,
      "outputs": [
        {
          "output_type": "execute_result",
          "data": {
            "text/html": [
              "<div>\n",
              "<style scoped>\n",
              "    .dataframe tbody tr th:only-of-type {\n",
              "        vertical-align: middle;\n",
              "    }\n",
              "\n",
              "    .dataframe tbody tr th {\n",
              "        vertical-align: top;\n",
              "    }\n",
              "\n",
              "    .dataframe thead th {\n",
              "        text-align: right;\n",
              "    }\n",
              "</style>\n",
              "<table border=\"1\" class=\"dataframe\">\n",
              "  <thead>\n",
              "    <tr style=\"text-align: right;\">\n",
              "      <th></th>\n",
              "      <th>0</th>\n",
              "      <th>1</th>\n",
              "      <th>2</th>\n",
              "      <th>3</th>\n",
              "      <th>4</th>\n",
              "      <th>5</th>\n",
              "      <th>6</th>\n",
              "      <th>7</th>\n",
              "      <th>8</th>\n",
              "      <th>9</th>\n",
              "      <th>...</th>\n",
              "      <th>775</th>\n",
              "      <th>776</th>\n",
              "      <th>777</th>\n",
              "      <th>778</th>\n",
              "      <th>779</th>\n",
              "      <th>780</th>\n",
              "      <th>781</th>\n",
              "      <th>782</th>\n",
              "      <th>783</th>\n",
              "      <th>class</th>\n",
              "    </tr>\n",
              "  </thead>\n",
              "  <tbody>\n",
              "    <tr>\n",
              "      <th>0</th>\n",
              "      <td>0</td>\n",
              "      <td>0</td>\n",
              "      <td>0</td>\n",
              "      <td>0</td>\n",
              "      <td>0</td>\n",
              "      <td>0</td>\n",
              "      <td>0</td>\n",
              "      <td>0</td>\n",
              "      <td>0</td>\n",
              "      <td>52</td>\n",
              "      <td>...</td>\n",
              "      <td>173</td>\n",
              "      <td>148</td>\n",
              "      <td>0</td>\n",
              "      <td>0</td>\n",
              "      <td>1</td>\n",
              "      <td>0</td>\n",
              "      <td>0</td>\n",
              "      <td>0</td>\n",
              "      <td>0</td>\n",
              "      <td>0</td>\n",
              "    </tr>\n",
              "    <tr>\n",
              "      <th>1</th>\n",
              "      <td>0</td>\n",
              "      <td>0</td>\n",
              "      <td>0</td>\n",
              "      <td>0</td>\n",
              "      <td>0</td>\n",
              "      <td>0</td>\n",
              "      <td>0</td>\n",
              "      <td>0</td>\n",
              "      <td>0</td>\n",
              "      <td>74</td>\n",
              "      <td>...</td>\n",
              "      <td>15</td>\n",
              "      <td>0</td>\n",
              "      <td>0</td>\n",
              "      <td>0</td>\n",
              "      <td>0</td>\n",
              "      <td>0</td>\n",
              "      <td>0</td>\n",
              "      <td>0</td>\n",
              "      <td>0</td>\n",
              "      <td>0</td>\n",
              "    </tr>\n",
              "    <tr>\n",
              "      <th>2</th>\n",
              "      <td>0</td>\n",
              "      <td>0</td>\n",
              "      <td>0</td>\n",
              "      <td>0</td>\n",
              "      <td>0</td>\n",
              "      <td>0</td>\n",
              "      <td>0</td>\n",
              "      <td>0</td>\n",
              "      <td>0</td>\n",
              "      <td>0</td>\n",
              "      <td>...</td>\n",
              "      <td>33</td>\n",
              "      <td>14</td>\n",
              "      <td>0</td>\n",
              "      <td>1</td>\n",
              "      <td>0</td>\n",
              "      <td>0</td>\n",
              "      <td>0</td>\n",
              "      <td>0</td>\n",
              "      <td>0</td>\n",
              "      <td>0</td>\n",
              "    </tr>\n",
              "    <tr>\n",
              "      <th>3</th>\n",
              "      <td>0</td>\n",
              "      <td>0</td>\n",
              "      <td>0</td>\n",
              "      <td>0</td>\n",
              "      <td>0</td>\n",
              "      <td>0</td>\n",
              "      <td>0</td>\n",
              "      <td>0</td>\n",
              "      <td>0</td>\n",
              "      <td>18</td>\n",
              "      <td>...</td>\n",
              "      <td>51</td>\n",
              "      <td>63</td>\n",
              "      <td>34</td>\n",
              "      <td>0</td>\n",
              "      <td>1</td>\n",
              "      <td>0</td>\n",
              "      <td>0</td>\n",
              "      <td>0</td>\n",
              "      <td>0</td>\n",
              "      <td>0</td>\n",
              "    </tr>\n",
              "    <tr>\n",
              "      <th>4</th>\n",
              "      <td>0</td>\n",
              "      <td>0</td>\n",
              "      <td>0</td>\n",
              "      <td>0</td>\n",
              "      <td>0</td>\n",
              "      <td>0</td>\n",
              "      <td>0</td>\n",
              "      <td>26</td>\n",
              "      <td>64</td>\n",
              "      <td>134</td>\n",
              "      <td>...</td>\n",
              "      <td>41</td>\n",
              "      <td>37</td>\n",
              "      <td>35</td>\n",
              "      <td>36</td>\n",
              "      <td>36</td>\n",
              "      <td>0</td>\n",
              "      <td>0</td>\n",
              "      <td>0</td>\n",
              "      <td>0</td>\n",
              "      <td>0</td>\n",
              "    </tr>\n",
              "  </tbody>\n",
              "</table>\n",
              "<p>5 rows × 785 columns</p>\n",
              "</div>"
            ],
            "text/plain": [
              "   0  1  2  3  4  5  6   7   8    9  ...    775  776  777  778  779  780  781  \\\n",
              "0  0  0  0  0  0  0  0   0   0   52  ...    173  148    0    0    1    0    0   \n",
              "1  0  0  0  0  0  0  0   0   0   74  ...     15    0    0    0    0    0    0   \n",
              "2  0  0  0  0  0  0  0   0   0    0  ...     33   14    0    1    0    0    0   \n",
              "3  0  0  0  0  0  0  0   0   0   18  ...     51   63   34    0    1    0    0   \n",
              "4  0  0  0  0  0  0  0  26  64  134  ...     41   37   35   36   36    0    0   \n",
              "\n",
              "   782  783  class  \n",
              "0    0    0      0  \n",
              "1    0    0      0  \n",
              "2    0    0      0  \n",
              "3    0    0      0  \n",
              "4    0    0      0  \n",
              "\n",
              "[5 rows x 785 columns]"
            ]
          },
          "metadata": {
            "tags": []
          },
          "execution_count": 54
        }
      ]
    },
    {
      "metadata": {
        "id": "8ydK93PIDGIH",
        "colab_type": "code",
        "outputId": "f86e1ca0-984f-44ba-d3ab-88eac84a470f",
        "colab": {
          "base_uri": "https://localhost:8080/",
          "height": 34
        }
      },
      "cell_type": "code",
      "source": [
        "test_results['class'].nunique()"
      ],
      "execution_count": 55,
      "outputs": [
        {
          "output_type": "execute_result",
          "data": {
            "text/plain": [
              "4"
            ]
          },
          "metadata": {
            "tags": []
          },
          "execution_count": 55
        }
      ]
    },
    {
      "metadata": {
        "id": "bt6HWFKxDNdo",
        "colab_type": "code",
        "outputId": "ef7884c7-3259-4e8d-b215-b0ebfda39ec8",
        "colab": {
          "base_uri": "https://localhost:8080/",
          "height": 34
        }
      },
      "cell_type": "code",
      "source": [
        "test_results['class'].unique()"
      ],
      "execution_count": 56,
      "outputs": [
        {
          "output_type": "execute_result",
          "data": {
            "text/plain": [
              "array([0, 3, 1, 2])"
            ]
          },
          "metadata": {
            "tags": []
          },
          "execution_count": 56
        }
      ]
    },
    {
      "metadata": {
        "id": "RRdrkKnsDSGA",
        "colab_type": "code",
        "outputId": "e27dc29a-3d10-45a3-d9c3-6a31545be31a",
        "colab": {
          "base_uri": "https://localhost:8080/",
          "height": 102
        }
      },
      "cell_type": "code",
      "source": [
        "test_results['class'].value_counts()"
      ],
      "execution_count": 57,
      "outputs": [
        {
          "output_type": "execute_result",
          "data": {
            "text/plain": [
              "3    532\n",
              "1    498\n",
              "2    497\n",
              "0    473\n",
              "Name: class, dtype: int64"
            ]
          },
          "metadata": {
            "tags": []
          },
          "execution_count": 57
        }
      ]
    },
    {
      "metadata": {
        "id": "nGFDOC_5n0VC",
        "colab_type": "text"
      },
      "cell_type": "markdown",
      "source": [
        "We need to map the predicted values back to original labels"
      ]
    },
    {
      "metadata": {
        "id": "HXog40vrDVo8",
        "colab_type": "code",
        "colab": {}
      },
      "cell_type": "code",
      "source": [
        "test_results['class'] = test_results['class'].map({\n",
        "    0: 0,\n",
        "    1: 2,\n",
        "    2: 3,\n",
        "    3: 6\n",
        "})"
      ],
      "execution_count": 0,
      "outputs": []
    },
    {
      "metadata": {
        "id": "ymyZ1QzFDpwe",
        "colab_type": "code",
        "outputId": "94eb546b-6b20-4318-d378-a7a3b1978e31",
        "colab": {
          "base_uri": "https://localhost:8080/",
          "height": 233
        }
      },
      "cell_type": "code",
      "source": [
        "test_results.sample(5)"
      ],
      "execution_count": 59,
      "outputs": [
        {
          "output_type": "execute_result",
          "data": {
            "text/html": [
              "<div>\n",
              "<style scoped>\n",
              "    .dataframe tbody tr th:only-of-type {\n",
              "        vertical-align: middle;\n",
              "    }\n",
              "\n",
              "    .dataframe tbody tr th {\n",
              "        vertical-align: top;\n",
              "    }\n",
              "\n",
              "    .dataframe thead th {\n",
              "        text-align: right;\n",
              "    }\n",
              "</style>\n",
              "<table border=\"1\" class=\"dataframe\">\n",
              "  <thead>\n",
              "    <tr style=\"text-align: right;\">\n",
              "      <th></th>\n",
              "      <th>0</th>\n",
              "      <th>1</th>\n",
              "      <th>2</th>\n",
              "      <th>3</th>\n",
              "      <th>4</th>\n",
              "      <th>5</th>\n",
              "      <th>6</th>\n",
              "      <th>7</th>\n",
              "      <th>8</th>\n",
              "      <th>9</th>\n",
              "      <th>...</th>\n",
              "      <th>775</th>\n",
              "      <th>776</th>\n",
              "      <th>777</th>\n",
              "      <th>778</th>\n",
              "      <th>779</th>\n",
              "      <th>780</th>\n",
              "      <th>781</th>\n",
              "      <th>782</th>\n",
              "      <th>783</th>\n",
              "      <th>class</th>\n",
              "    </tr>\n",
              "  </thead>\n",
              "  <tbody>\n",
              "    <tr>\n",
              "      <th>345</th>\n",
              "      <td>0</td>\n",
              "      <td>0</td>\n",
              "      <td>0</td>\n",
              "      <td>0</td>\n",
              "      <td>0</td>\n",
              "      <td>0</td>\n",
              "      <td>0</td>\n",
              "      <td>0</td>\n",
              "      <td>0</td>\n",
              "      <td>15</td>\n",
              "      <td>...</td>\n",
              "      <td>125</td>\n",
              "      <td>133</td>\n",
              "      <td>42</td>\n",
              "      <td>0</td>\n",
              "      <td>0</td>\n",
              "      <td>0</td>\n",
              "      <td>0</td>\n",
              "      <td>0</td>\n",
              "      <td>0</td>\n",
              "      <td>0</td>\n",
              "    </tr>\n",
              "    <tr>\n",
              "      <th>1750</th>\n",
              "      <td>0</td>\n",
              "      <td>0</td>\n",
              "      <td>0</td>\n",
              "      <td>0</td>\n",
              "      <td>0</td>\n",
              "      <td>0</td>\n",
              "      <td>0</td>\n",
              "      <td>0</td>\n",
              "      <td>0</td>\n",
              "      <td>1</td>\n",
              "      <td>...</td>\n",
              "      <td>10</td>\n",
              "      <td>0</td>\n",
              "      <td>0</td>\n",
              "      <td>87</td>\n",
              "      <td>120</td>\n",
              "      <td>58</td>\n",
              "      <td>0</td>\n",
              "      <td>0</td>\n",
              "      <td>0</td>\n",
              "      <td>6</td>\n",
              "    </tr>\n",
              "    <tr>\n",
              "      <th>1341</th>\n",
              "      <td>0</td>\n",
              "      <td>0</td>\n",
              "      <td>0</td>\n",
              "      <td>0</td>\n",
              "      <td>0</td>\n",
              "      <td>0</td>\n",
              "      <td>0</td>\n",
              "      <td>0</td>\n",
              "      <td>0</td>\n",
              "      <td>44</td>\n",
              "      <td>...</td>\n",
              "      <td>0</td>\n",
              "      <td>0</td>\n",
              "      <td>0</td>\n",
              "      <td>0</td>\n",
              "      <td>0</td>\n",
              "      <td>0</td>\n",
              "      <td>0</td>\n",
              "      <td>0</td>\n",
              "      <td>0</td>\n",
              "      <td>3</td>\n",
              "    </tr>\n",
              "    <tr>\n",
              "      <th>1100</th>\n",
              "      <td>0</td>\n",
              "      <td>0</td>\n",
              "      <td>0</td>\n",
              "      <td>0</td>\n",
              "      <td>0</td>\n",
              "      <td>0</td>\n",
              "      <td>0</td>\n",
              "      <td>0</td>\n",
              "      <td>0</td>\n",
              "      <td>26</td>\n",
              "      <td>...</td>\n",
              "      <td>0</td>\n",
              "      <td>0</td>\n",
              "      <td>0</td>\n",
              "      <td>0</td>\n",
              "      <td>0</td>\n",
              "      <td>0</td>\n",
              "      <td>0</td>\n",
              "      <td>0</td>\n",
              "      <td>0</td>\n",
              "      <td>3</td>\n",
              "    </tr>\n",
              "    <tr>\n",
              "      <th>483</th>\n",
              "      <td>0</td>\n",
              "      <td>0</td>\n",
              "      <td>2</td>\n",
              "      <td>1</td>\n",
              "      <td>0</td>\n",
              "      <td>0</td>\n",
              "      <td>0</td>\n",
              "      <td>0</td>\n",
              "      <td>0</td>\n",
              "      <td>0</td>\n",
              "      <td>...</td>\n",
              "      <td>88</td>\n",
              "      <td>0</td>\n",
              "      <td>0</td>\n",
              "      <td>0</td>\n",
              "      <td>1</td>\n",
              "      <td>0</td>\n",
              "      <td>1</td>\n",
              "      <td>0</td>\n",
              "      <td>0</td>\n",
              "      <td>0</td>\n",
              "    </tr>\n",
              "  </tbody>\n",
              "</table>\n",
              "<p>5 rows × 785 columns</p>\n",
              "</div>"
            ],
            "text/plain": [
              "      0  1  2  3  4  5  6  7  8   9  ...    775  776  777  778  779  780  781  \\\n",
              "345   0  0  0  0  0  0  0  0  0  15  ...    125  133   42    0    0    0    0   \n",
              "1750  0  0  0  0  0  0  0  0  0   1  ...     10    0    0   87  120   58    0   \n",
              "1341  0  0  0  0  0  0  0  0  0  44  ...      0    0    0    0    0    0    0   \n",
              "1100  0  0  0  0  0  0  0  0  0  26  ...      0    0    0    0    0    0    0   \n",
              "483   0  0  2  1  0  0  0  0  0   0  ...     88    0    0    0    1    0    1   \n",
              "\n",
              "      782  783  class  \n",
              "345     0    0      0  \n",
              "1750    0    0      6  \n",
              "1341    0    0      3  \n",
              "1100    0    0      3  \n",
              "483     0    0      0  \n",
              "\n",
              "[5 rows x 785 columns]"
            ]
          },
          "metadata": {
            "tags": []
          },
          "execution_count": 59
        }
      ]
    },
    {
      "metadata": {
        "id": "MYToj9opDren",
        "colab_type": "code",
        "outputId": "f863edb0-bd54-450e-d832-18949c43246e",
        "colab": {
          "base_uri": "https://localhost:8080/",
          "height": 34
        }
      },
      "cell_type": "code",
      "source": [
        "test_results['class'].unique()"
      ],
      "execution_count": 60,
      "outputs": [
        {
          "output_type": "execute_result",
          "data": {
            "text/plain": [
              "array([0, 6, 2, 3])"
            ]
          },
          "metadata": {
            "tags": []
          },
          "execution_count": 60
        }
      ]
    },
    {
      "metadata": {
        "id": "m9CLgKKeDwUT",
        "colab_type": "code",
        "colab": {}
      },
      "cell_type": "code",
      "source": [
        "submission = pd.DataFrame()"
      ],
      "execution_count": 0,
      "outputs": []
    },
    {
      "metadata": {
        "id": "F3U5nrUvD-qU",
        "colab_type": "code",
        "colab": {}
      },
      "cell_type": "code",
      "source": [
        "submission['image_index'] = test_results.index"
      ],
      "execution_count": 0,
      "outputs": []
    },
    {
      "metadata": {
        "id": "rKhgssoMECJD",
        "colab_type": "code",
        "colab": {}
      },
      "cell_type": "code",
      "source": [
        "submission['class'] = test_results['class']"
      ],
      "execution_count": 0,
      "outputs": []
    },
    {
      "metadata": {
        "id": "SAnJdPuMEE0i",
        "colab_type": "code",
        "outputId": "c2f666c4-fc13-4f7f-f4cc-6bb18a3d3c28",
        "colab": {
          "base_uri": "https://localhost:8080/",
          "height": 204
        }
      },
      "cell_type": "code",
      "source": [
        "submission.sample(5)"
      ],
      "execution_count": 64,
      "outputs": [
        {
          "output_type": "execute_result",
          "data": {
            "text/html": [
              "<div>\n",
              "<style scoped>\n",
              "    .dataframe tbody tr th:only-of-type {\n",
              "        vertical-align: middle;\n",
              "    }\n",
              "\n",
              "    .dataframe tbody tr th {\n",
              "        vertical-align: top;\n",
              "    }\n",
              "\n",
              "    .dataframe thead th {\n",
              "        text-align: right;\n",
              "    }\n",
              "</style>\n",
              "<table border=\"1\" class=\"dataframe\">\n",
              "  <thead>\n",
              "    <tr style=\"text-align: right;\">\n",
              "      <th></th>\n",
              "      <th>image_index</th>\n",
              "      <th>class</th>\n",
              "    </tr>\n",
              "  </thead>\n",
              "  <tbody>\n",
              "    <tr>\n",
              "      <th>1051</th>\n",
              "      <td>1051</td>\n",
              "      <td>3</td>\n",
              "    </tr>\n",
              "    <tr>\n",
              "      <th>42</th>\n",
              "      <td>42</td>\n",
              "      <td>0</td>\n",
              "    </tr>\n",
              "    <tr>\n",
              "      <th>1402</th>\n",
              "      <td>1402</td>\n",
              "      <td>3</td>\n",
              "    </tr>\n",
              "    <tr>\n",
              "      <th>1694</th>\n",
              "      <td>1694</td>\n",
              "      <td>6</td>\n",
              "    </tr>\n",
              "    <tr>\n",
              "      <th>1626</th>\n",
              "      <td>1626</td>\n",
              "      <td>6</td>\n",
              "    </tr>\n",
              "  </tbody>\n",
              "</table>\n",
              "</div>"
            ],
            "text/plain": [
              "      image_index  class\n",
              "1051         1051      3\n",
              "42             42      0\n",
              "1402         1402      3\n",
              "1694         1694      6\n",
              "1626         1626      6"
            ]
          },
          "metadata": {
            "tags": []
          },
          "execution_count": 64
        }
      ]
    },
    {
      "metadata": {
        "id": "VvNM6RSUEGGh",
        "colab_type": "code",
        "colab": {}
      },
      "cell_type": "code",
      "source": [
        "submission.to_csv('anmol_goel.csv')"
      ],
      "execution_count": 0,
      "outputs": []
    },
    {
      "metadata": {
        "id": "eiB8UZwX0Gns",
        "colab_type": "code",
        "colab": {}
      },
      "cell_type": "code",
      "source": [
        ""
      ],
      "execution_count": 0,
      "outputs": []
    }
  ]
}
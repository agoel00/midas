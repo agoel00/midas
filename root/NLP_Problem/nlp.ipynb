{
  "nbformat": 4,
  "nbformat_minor": 0,
  "metadata": {
    "colab": {
      "name": "midasNLP5.ipynb",
      "version": "0.3.2",
      "provenance": []
    },
    "kernelspec": {
      "name": "python3",
      "display_name": "Python 3"
    },
    "accelerator": "GPU"
  },
  "cells": [
    {
      "metadata": {
        "id": "pVEtkPEoFcAo",
        "colab_type": "text"
      },
      "cell_type": "markdown",
      "source": [
        "# Midas IIIT-D Summer Internship Task 3\n",
        "\n",
        "## NLP Problem\n",
        "\n",
        "### Problem Statement\n",
        "\n",
        "Please refer [here](https://competitions.codalab.org/competitions/19955#learn_the_details-data-specifications) for the problem statement. \n",
        "\n",
        "The dataset for the task is available [here](https://github.com/Semeval2019Task9/Subtask-A). You have to follow all the rules as mentioned in the problem.\n"
      ]
    },
    {
      "metadata": {
        "id": "QUrroOv8GPak",
        "colab_type": "text"
      },
      "cell_type": "markdown",
      "source": [
        "#### I thought of using Transfer Learning for this problem statement. Transfer Learning in NLP is still relatively new. Google released the Universal Sentence Encoder for getting pre-trained sentence embeddings\n",
        "\n",
        "The Universal Sentence Encoder encodes text into high dimensional vectors that can be used for text classification, semantic similarity, clustering and other natural language tasks.\n",
        "\n",
        "It converts any sentence into a 512 dimensional vector"
      ]
    },
    {
      "metadata": {
        "id": "XriqFd5lF80i",
        "colab_type": "text"
      },
      "cell_type": "markdown",
      "source": [
        "### Importing Libraries\n",
        "\n",
        "- Keras and Tensorflow for building deep neural networks\n",
        "- Pandas for data manipulation\n",
        "- Numpy for mathematical operations\n",
        "- sklearn for getting different metrics of a trained model\n",
        "- seaborn and matplotlib for plotting"
      ]
    },
    {
      "metadata": {
        "id": "TCOOsDq9qHWB",
        "colab_type": "code",
        "colab": {}
      },
      "cell_type": "code",
      "source": [
        "import tensorflow as tf\n",
        "import tensorflow_hub as hub\n",
        "import keras\n",
        "import pandas as pd\n",
        "import numpy as np\n",
        "from sklearn.metrics import classification_report, accuracy_score, confusion_matrix\n",
        "import seaborn as sns\n",
        "import matplotlib.pyplot as plt"
      ],
      "execution_count": 0,
      "outputs": []
    },
    {
      "metadata": {
        "id": "1a9RqVwYGtY0",
        "colab_type": "text"
      },
      "cell_type": "markdown",
      "source": [
        "### Getting datasets from github"
      ]
    },
    {
      "metadata": {
        "id": "F6dgzRLMsDN_",
        "colab_type": "code",
        "colab": {}
      },
      "cell_type": "code",
      "source": [
        "train = pd.read_csv(\"https://raw.githubusercontent.com/Semeval2019Task9/Subtask-A/master/V1.4_Training.csv\", header=None, encoding='latin1')\n",
        "test = pd.read_csv('https://raw.githubusercontent.com/Semeval2019Task9/Subtask-A/master/SubtaskA_Trial_Test_Labeled.csv', encoding='latin1')\n",
        "evaluation = pd.read_csv('https://raw.githubusercontent.com/Semeval2019Task9/Subtask-A/master/SubtaskA_EvaluationData.csv', header=None, encoding='latin1')"
      ],
      "execution_count": 0,
      "outputs": []
    },
    {
      "metadata": {
        "id": "hAyiWPYtGv3w",
        "colab_type": "text"
      },
      "cell_type": "markdown",
      "source": [
        "### Getting the Universal Sentence Encoder from TFHub"
      ]
    },
    {
      "metadata": {
        "id": "DnaJz5UIwGOH",
        "colab_type": "code",
        "colab": {}
      },
      "cell_type": "code",
      "source": [
        "url = 'https://tfhub.dev/google/universal-sentence-encoder-large/3'\n",
        "embed = hub.Module(url)"
      ],
      "execution_count": 0,
      "outputs": []
    },
    {
      "metadata": {
        "id": "lqkZZDa1G4By",
        "colab_type": "text"
      },
      "cell_type": "markdown",
      "source": [
        "**This function helps us to convert labels into one-hot encoded arrays**\n"
      ]
    },
    {
      "metadata": {
        "id": "CIxvieG5wGaK",
        "colab_type": "code",
        "colab": {}
      },
      "cell_type": "code",
      "source": [
        "def convert_labels(y):\n",
        "  return keras.utils.to_categorical(y)"
      ],
      "execution_count": 0,
      "outputs": []
    },
    {
      "metadata": {
        "id": "cVF7OrgQG-54",
        "colab_type": "text"
      },
      "cell_type": "markdown",
      "source": [
        "**Separating training testing and evalution datasets into text and labels**"
      ]
    },
    {
      "metadata": {
        "id": "V5AFs6xLwLmi",
        "colab_type": "code",
        "colab": {}
      },
      "cell_type": "code",
      "source": [
        "x_train = train[1]\n",
        "y_train = train[2]\n",
        "y_train_cat = convert_labels(y_train)\n",
        "\n",
        "x_test = test['sentence']\n",
        "y_test = test['label']\n",
        "y_test_cat = convert_labels(y_test)\n",
        "\n",
        "x_eval = evaluation[1]"
      ],
      "execution_count": 0,
      "outputs": []
    },
    {
      "metadata": {
        "id": "z6vDWdw6wNLt",
        "colab_type": "code",
        "outputId": "82493ad3-c26c-4001-bbca-f3442572db6d",
        "colab": {
          "base_uri": "https://localhost:8080/",
          "height": 68
        }
      },
      "cell_type": "code",
      "source": [
        "print(f\"Number of Training samples is {x_train.shape[0]}\")\n",
        "print(f\"Number of Testing samples is {x_test.shape[0]}\")\n",
        "print(f\"Number of Evaluation samples is {x_eval.shape[0]}\")"
      ],
      "execution_count": 6,
      "outputs": [
        {
          "output_type": "stream",
          "text": [
            "Number of Training samples is 8500\n",
            "Number of Testing samples is 592\n",
            "Number of Evaluation samples is 833\n"
          ],
          "name": "stdout"
        }
      ]
    },
    {
      "metadata": {
        "id": "ElxrbEQkHIEk",
        "colab_type": "text"
      },
      "cell_type": "markdown",
      "source": [
        "**Lower all texts so that it is easier for the USE model to embed the sentences**"
      ]
    },
    {
      "metadata": {
        "id": "R-6uCuh0yhJL",
        "colab_type": "code",
        "colab": {}
      },
      "cell_type": "code",
      "source": [
        "x_train = x_train.str.lower()\n",
        "x_test = x_test.str.lower()\n",
        "x_eval = x_eval.str.lower()"
      ],
      "execution_count": 0,
      "outputs": []
    },
    {
      "metadata": {
        "id": "HKcTqLTSHP0w",
        "colab_type": "text"
      },
      "cell_type": "markdown",
      "source": [
        "**I create a deep neural net having 4 Dense layers and a few dropout layers sprinkled in between.**\n",
        "\n",
        "The model is trained with a categorical cross entropy loss function and optimized using Adam"
      ]
    },
    {
      "metadata": {
        "id": "ukmzZs5mwOka",
        "colab_type": "code",
        "colab": {}
      },
      "cell_type": "code",
      "source": [
        "from keras.layers import Dense, Dropout\n",
        "from keras.models import Sequential\n",
        "import keras.backend as K\n",
        "\n",
        "\n",
        "def create_model():\n",
        " \n",
        "  model = Sequential([\n",
        "      \n",
        "      Dense(512, activation='relu', input_dim=512),\n",
        "      Dense(256, activation='relu'),\n",
        "      Dropout(0.25),\n",
        "      Dense(64, activation='relu'),\n",
        "      Dropout(0.2),\n",
        "      \n",
        "      Dense(2, activation='softmax')\n",
        "  ])\n",
        "  \n",
        "  model.compile(loss='categorical_crossentropy', optimizer='adam', metrics=['accuracy'])\n",
        "  return model"
      ],
      "execution_count": 0,
      "outputs": []
    },
    {
      "metadata": {
        "id": "XBP-4xjIHiyy",
        "colab_type": "text"
      },
      "cell_type": "markdown",
      "source": [
        "**This is a simple function which returns the USE embedding of any input sentence**"
      ]
    },
    {
      "metadata": {
        "id": "fyK0EmiqwSVl",
        "colab_type": "code",
        "colab": {}
      },
      "cell_type": "code",
      "source": [
        "def get_embeddings(data):\n",
        "  with tf.Session() as session:\n",
        "    session.run([tf.global_variables_initializer(), tf.tables_initializer()])\n",
        "    embeddings = session.run(embed(data))\n",
        "    return embeddings"
      ],
      "execution_count": 0,
      "outputs": []
    },
    {
      "metadata": {
        "id": "tdOZeVFUHnTR",
        "colab_type": "text"
      },
      "cell_type": "markdown",
      "source": [
        "*Since the training data is relatively large with thousands of samples, getting the embeddings all at once gives a runtime error*\n",
        "\n",
        "To rectify this, we split the training data into equally sized chunks and get embeddings individually. Later, all of them are combined once again"
      ]
    },
    {
      "metadata": {
        "id": "VRxEzQyFwZib",
        "colab_type": "code",
        "colab": {}
      },
      "cell_type": "code",
      "source": [
        "x_train_splits = np.array_split(x_train.values, 17)\n",
        "x_train_splits = np.array(x_train_splits)"
      ],
      "execution_count": 0,
      "outputs": []
    },
    {
      "metadata": {
        "id": "oqDJuz18wnde",
        "colab_type": "code",
        "colab": {}
      },
      "cell_type": "code",
      "source": [
        "train_embeddings = []\n",
        "\n",
        "for split in x_train_splits:\n",
        "  embedding = get_embeddings(split)\n",
        "  train_embeddings.append(embedding)"
      ],
      "execution_count": 0,
      "outputs": []
    },
    {
      "metadata": {
        "id": "7lSbIVzUxRaC",
        "colab_type": "code",
        "outputId": "1aec0d9e-8556-4cfc-8215-7c1120e97cff",
        "colab": {
          "base_uri": "https://localhost:8080/",
          "height": 34
        }
      },
      "cell_type": "code",
      "source": [
        "train_embeddings = np.array(train_embeddings)\n",
        "train_embeddings = train_embeddings.reshape(-1, train_embeddings.shape[-1])\n",
        "train_embeddings.shape"
      ],
      "execution_count": 22,
      "outputs": [
        {
          "output_type": "execute_result",
          "data": {
            "text/plain": [
              "(8500, 512)"
            ]
          },
          "metadata": {
            "tags": []
          },
          "execution_count": 22
        }
      ]
    },
    {
      "metadata": {
        "id": "na6zCMWrx8iC",
        "colab_type": "code",
        "colab": {}
      },
      "cell_type": "code",
      "source": [
        "model = create_model()"
      ],
      "execution_count": 0,
      "outputs": []
    },
    {
      "metadata": {
        "id": "UkujuAlgKm7j",
        "colab_type": "code",
        "colab": {
          "base_uri": "https://localhost:8080/",
          "height": 340
        },
        "outputId": "2998af4c-7dac-4cee-bdbc-653d430b3b2c"
      },
      "cell_type": "code",
      "source": [
        "model.summary()"
      ],
      "execution_count": 136,
      "outputs": [
        {
          "output_type": "stream",
          "text": [
            "_________________________________________________________________\n",
            "Layer (type)                 Output Shape              Param #   \n",
            "=================================================================\n",
            "dense_1 (Dense)              (None, 512)               262656    \n",
            "_________________________________________________________________\n",
            "dense_2 (Dense)              (None, 256)               131328    \n",
            "_________________________________________________________________\n",
            "dropout_1 (Dropout)          (None, 256)               0         \n",
            "_________________________________________________________________\n",
            "dense_3 (Dense)              (None, 64)                16448     \n",
            "_________________________________________________________________\n",
            "dropout_2 (Dropout)          (None, 64)                0         \n",
            "_________________________________________________________________\n",
            "dense_4 (Dense)              (None, 2)                 130       \n",
            "=================================================================\n",
            "Total params: 410,562\n",
            "Trainable params: 410,562\n",
            "Non-trainable params: 0\n",
            "_________________________________________________________________\n"
          ],
          "name": "stdout"
        }
      ]
    },
    {
      "metadata": {
        "id": "qFkg8yWVKu2m",
        "colab_type": "code",
        "colab": {
          "base_uri": "https://localhost:8080/",
          "height": 741
        },
        "outputId": "425ea0d5-a006-4978-b7c4-34ffc37aba37"
      },
      "cell_type": "code",
      "source": [
        "from keras.utils import plot_model\n",
        "plot_model(model, to_file='model.png', show_shapes=True, show_layer_names=True)\n",
        "\n",
        "from IPython.display import Image\n",
        "Image('model.png')"
      ],
      "execution_count": 140,
      "outputs": [
        {
          "output_type": "execute_result",
          "data": {
            "image/png": "[encoded data removed]",
            "text/plain": [
              "<IPython.core.display.Image object>"
            ]
          },
          "metadata": {
            "tags": []
          },
          "execution_count": 140
        }
      ]
    },
    {
      "metadata": {
        "id": "ML8M0qIOH5xG",
        "colab_type": "text"
      },
      "cell_type": "markdown",
      "source": [
        "**The model is trained on the training dataset with a validation split of 10%. It is trained for 5 epochs and a batch size of 500 so that it is memoery efficient**"
      ]
    },
    {
      "metadata": {
        "id": "ZZTEhu5hyzSz",
        "colab_type": "code",
        "outputId": "6ef1d499-d0f4-4931-8239-d61dff9dcf9b",
        "colab": {
          "base_uri": "https://localhost:8080/",
          "height": 346
        }
      },
      "cell_type": "code",
      "source": [
        "model.fit(train_embeddings, y_train_cat, validation_split=0.1, epochs=5, batch_size=500)"
      ],
      "execution_count": 24,
      "outputs": [
        {
          "output_type": "stream",
          "text": [
            "WARNING:tensorflow:From /usr/local/lib/python3.6/dist-packages/tensorflow/python/ops/math_ops.py:3066: to_int32 (from tensorflow.python.ops.math_ops) is deprecated and will be removed in a future version.\n",
            "Instructions for updating:\n",
            "Use tf.cast instead.\n"
          ],
          "name": "stdout"
        },
        {
          "output_type": "stream",
          "text": [
            "W0324 17:59:21.349877 140318966671232 deprecation.py:323] From /usr/local/lib/python3.6/dist-packages/tensorflow/python/ops/math_ops.py:3066: to_int32 (from tensorflow.python.ops.math_ops) is deprecated and will be removed in a future version.\n",
            "Instructions for updating:\n",
            "Use tf.cast instead.\n"
          ],
          "name": "stderr"
        },
        {
          "output_type": "stream",
          "text": [
            "Train on 7650 samples, validate on 850 samples\n",
            "Epoch 1/5\n",
            "7650/7650 [==============================] - 13s 2ms/step - loss: 0.4915 - acc: 0.7528 - val_loss: 0.4090 - val_acc: 0.6553\n",
            "Epoch 2/5\n",
            "7650/7650 [==============================] - 0s 16us/step - loss: 0.3123 - acc: 0.8616 - val_loss: 0.3106 - val_acc: 0.8847\n",
            "Epoch 3/5\n",
            "7650/7650 [==============================] - 0s 15us/step - loss: 0.2715 - acc: 0.8871 - val_loss: 0.2557 - val_acc: 0.9012\n",
            "Epoch 4/5\n",
            "7650/7650 [==============================] - 0s 17us/step - loss: 0.2461 - acc: 0.8963 - val_loss: 0.2485 - val_acc: 0.9012\n",
            "Epoch 5/5\n",
            "7650/7650 [==============================] - 0s 16us/step - loss: 0.2295 - acc: 0.9068 - val_loss: 0.2344 - val_acc: 0.9094\n"
          ],
          "name": "stdout"
        },
        {
          "output_type": "execute_result",
          "data": {
            "text/plain": [
              "<keras.callbacks.History at 0x7f9e1baf8208>"
            ]
          },
          "metadata": {
            "tags": []
          },
          "execution_count": 24
        }
      ]
    },
    {
      "metadata": {
        "id": "glkp0xcZIDao",
        "colab_type": "text"
      },
      "cell_type": "markdown",
      "source": [
        "**Getting the USE for test data**\n",
        "\n",
        "\n"
      ]
    },
    {
      "metadata": {
        "id": "31dwrM3Ky-Dh",
        "colab_type": "code",
        "outputId": "3ea2de4c-ecef-43d0-bfe6-ed018e6651a1",
        "colab": {
          "base_uri": "https://localhost:8080/",
          "height": 51
        }
      },
      "cell_type": "code",
      "source": [
        "test_embeddings = get_embeddings(x_test.values)"
      ],
      "execution_count": 25,
      "outputs": [
        {
          "output_type": "stream",
          "text": [
            "INFO:tensorflow:Saver not created because there are no variables in the graph to restore\n"
          ],
          "name": "stdout"
        },
        {
          "output_type": "stream",
          "text": [
            "I0324 17:59:56.201685 140318966671232 saver.py:1483] Saver not created because there are no variables in the graph to restore\n"
          ],
          "name": "stderr"
        }
      ]
    },
    {
      "metadata": {
        "id": "scjQaxyMzJ7x",
        "colab_type": "code",
        "outputId": "5349bfd2-b901-496d-fc93-13ebb0078a55",
        "colab": {
          "base_uri": "https://localhost:8080/",
          "height": 51
        }
      },
      "cell_type": "code",
      "source": [
        "model.evaluate(test_embeddings, y_test_cat)"
      ],
      "execution_count": 26,
      "outputs": [
        {
          "output_type": "stream",
          "text": [
            "592/592 [==============================] - 0s 71us/step\n"
          ],
          "name": "stdout"
        },
        {
          "output_type": "execute_result",
          "data": {
            "text/plain": [
              "[0.3948657689867793, 0.8445945945945946]"
            ]
          },
          "metadata": {
            "tags": []
          },
          "execution_count": 26
        }
      ]
    },
    {
      "metadata": {
        "id": "ywJa7A3OIH5i",
        "colab_type": "text"
      },
      "cell_type": "markdown",
      "source": [
        "**Predict labels for test embeddings using model.predict**\n",
        "\n",
        "*The predicted labels are in one hot encoded format which are later converted using np.argmax*"
      ]
    },
    {
      "metadata": {
        "id": "HRhWJ-8c3tTK",
        "colab_type": "code",
        "colab": {}
      },
      "cell_type": "code",
      "source": [
        "predicts = model.predict(test_embeddings)"
      ],
      "execution_count": 0,
      "outputs": []
    },
    {
      "metadata": {
        "id": "dBXT3Yrv32mE",
        "colab_type": "code",
        "colab": {}
      },
      "cell_type": "code",
      "source": [
        "y_pred = np.argmax(predicts, axis=1)"
      ],
      "execution_count": 0,
      "outputs": []
    },
    {
      "metadata": {
        "id": "bMY7DMCi39N0",
        "colab_type": "code",
        "colab": {
          "base_uri": "https://localhost:8080/",
          "height": 34
        },
        "outputId": "f8d66bc0-d344-498d-b228-8ee59af210fc"
      },
      "cell_type": "code",
      "source": [
        "y_test.shape, y_pred.shape"
      ],
      "execution_count": 33,
      "outputs": [
        {
          "output_type": "execute_result",
          "data": {
            "text/plain": [
              "((592,), (592,))"
            ]
          },
          "metadata": {
            "tags": []
          },
          "execution_count": 33
        }
      ]
    },
    {
      "metadata": {
        "id": "DHQgd_HZIQTH",
        "colab_type": "text"
      },
      "cell_type": "markdown",
      "source": [
        "**This is a simple class to evalute different models that we will be using in this notebook**\n",
        "It plots the confusion matrix, accuracy and a classification report"
      ]
    },
    {
      "metadata": {
        "id": "1RKYgESszOgl",
        "colab_type": "code",
        "colab": {}
      },
      "cell_type": "code",
      "source": [
        "class evaluateModel():\n",
        "  def __init__(self, y_true, y_pred):\n",
        "    self.y_true = y_true\n",
        "    self.y_pred = y_pred\n",
        "  \n",
        "  def plot_cm(self):\n",
        "    cm = confusion_matrix(self.y_true, self.y_pred)\n",
        "    sns.heatmap(cm, annot=True,fmt='d')\n",
        "    plt.xlabel('Predicted')\n",
        "    plt.ylabel('True')\n",
        "    plt.show()\n",
        "  \n",
        "  def get_accuracy(self):\n",
        "    print(accuracy_score(self.y_true, self.y_pred))\n",
        "  \n",
        "  def get_report(self):\n",
        "    print(classification_report(self.y_true, self.y_pred))"
      ],
      "execution_count": 0,
      "outputs": []
    },
    {
      "metadata": {
        "id": "7FdjhZSD3mIv",
        "colab_type": "code",
        "colab": {}
      },
      "cell_type": "code",
      "source": [
        "eval_model = evaluateModel(y_test, y_pred)"
      ],
      "execution_count": 0,
      "outputs": []
    },
    {
      "metadata": {
        "id": "IbEKS78NIZmm",
        "colab_type": "text"
      },
      "cell_type": "markdown",
      "source": [
        "**As we can see from the report, the Label 1 has a higher precision of 0.88 which is quite good.**"
      ]
    },
    {
      "metadata": {
        "id": "kdTzErjh4BSd",
        "colab_type": "code",
        "colab": {
          "base_uri": "https://localhost:8080/",
          "height": 170
        },
        "outputId": "c53266dd-9768-4f74-ec34-a89b9ec185a6"
      },
      "cell_type": "code",
      "source": [
        "eval_model.get_report()"
      ],
      "execution_count": 52,
      "outputs": [
        {
          "output_type": "stream",
          "text": [
            "              precision    recall  f1-score   support\n",
            "\n",
            "           0       0.81      0.90      0.85       296\n",
            "           1       0.88      0.79      0.84       296\n",
            "\n",
            "   micro avg       0.84      0.84      0.84       592\n",
            "   macro avg       0.85      0.84      0.84       592\n",
            "weighted avg       0.85      0.84      0.84       592\n",
            "\n"
          ],
          "name": "stdout"
        }
      ]
    },
    {
      "metadata": {
        "id": "7yzRr_FCIgcj",
        "colab_type": "text"
      },
      "cell_type": "markdown",
      "source": [
        "**The model achhieves a good accuracy of 84% on the test dataset**"
      ]
    },
    {
      "metadata": {
        "id": "G_6tXbPU4DFa",
        "colab_type": "code",
        "colab": {
          "base_uri": "https://localhost:8080/",
          "height": 34
        },
        "outputId": "9b44c58d-ca12-4d49-c305-e115e999da33"
      },
      "cell_type": "code",
      "source": [
        "eval_model.get_accuracy()"
      ],
      "execution_count": 53,
      "outputs": [
        {
          "output_type": "stream",
          "text": [
            "0.8445945945945946\n"
          ],
          "name": "stdout"
        }
      ]
    },
    {
      "metadata": {
        "id": "wjAedvCxIk9W",
        "colab_type": "text"
      },
      "cell_type": "markdown",
      "source": [
        "**The confusion matrix helps us in visualising the predictions of the model**"
      ]
    },
    {
      "metadata": {
        "id": "7MHIZLkZ4W3e",
        "colab_type": "code",
        "colab": {
          "base_uri": "https://localhost:8080/",
          "height": 361
        },
        "outputId": "8972a766-7bef-4197-efd1-77f029bc716f"
      },
      "cell_type": "code",
      "source": [
        "eval_model.plot_cm()"
      ],
      "execution_count": 54,
      "outputs": [
        {
          "output_type": "display_data",
          "data": {
            "image/png": "[encoded data removed]",
            "text/plain": [
              "<Figure size 576x396 with 2 Axes>"
            ]
          },
          "metadata": {
            "tags": []
          }
        }
      ]
    },
    {
      "metadata": {
        "id": "SbvjwfUfIsag",
        "colab_type": "text"
      },
      "cell_type": "markdown",
      "source": [
        "### One might wonder how does the model perform if the text is preprocessed a bit.\n",
        "\n",
        "USE is pretty powerful because it gave us good results without preprocessing the data"
      ]
    },
    {
      "metadata": {
        "id": "dzKfJcmr4b-8",
        "colab_type": "code",
        "colab": {}
      },
      "cell_type": "code",
      "source": [
        "!pip install contractions"
      ],
      "execution_count": 0,
      "outputs": []
    },
    {
      "metadata": {
        "id": "zaeagxEr4lyl",
        "colab_type": "code",
        "colab": {}
      },
      "cell_type": "code",
      "source": [
        "import spacy\n",
        "import re\n",
        "\n",
        "import contractions\n",
        "import unicodedata\n",
        "\n",
        "\n",
        "nlp = spacy.load('en', parse = True, tag=True, entity=True)\n"
      ],
      "execution_count": 0,
      "outputs": []
    },
    {
      "metadata": {
        "id": "IOQ1CS9U4_cy",
        "colab_type": "code",
        "colab": {}
      },
      "cell_type": "code",
      "source": [
        "def remove_accented_chars(text):\n",
        "  '''\n",
        "  This function converts all the text in unicode.\n",
        "  '''\n",
        "  text = unicodedata.normalize('NFKD', text).encode('ascii', 'ignore').decode('utf-8', 'ignore')\n",
        "  return text\n",
        "\n",
        "\n",
        "def expand(text):\n",
        "  '''\n",
        "  This function expands all the contractions present in the text. \n",
        "  For example - Can't -> Cannot\n",
        "  '''\n",
        "  return contractions.fix(text)\n",
        "\n",
        "def remove_special_characters(text, remove_digits=False):\n",
        "  '''\n",
        "  This function removes special characters from the text\n",
        "  '''\n",
        "  pattern = r'[^a-zA-z0-9\\s]' if not remove_digits else r'[^a-zA-z\\s]'\n",
        "  text = re.sub(pattern, '', text)\n",
        "  return text\n",
        "  \n",
        "def lemmatize_text(text):\n",
        "  '''\n",
        "  This function lemmatizes text. lemmatization is a powerful\n",
        "  process which converts words into their corresponding root word.\n",
        "  '''\n",
        "  text = nlp(text)\n",
        "  text = ' '.join([word.lemma_ if word.lemma_ != '-PRON-' else word.text for word in text])\n",
        "  return text"
      ],
      "execution_count": 0,
      "outputs": []
    },
    {
      "metadata": {
        "id": "LPUlCfIH5pp-",
        "colab_type": "code",
        "colab": {}
      },
      "cell_type": "code",
      "source": [
        "import tqdm\n",
        "\n",
        "def normalize_text(text):\n",
        "  '''\n",
        "  This function performs all the preprocessing actions on the textual data.\n",
        "  '''\n",
        "  normalized_corpus = []\n",
        "  \n",
        "  for doc in tqdm.tqdm(text):\n",
        "    doc = remove_accented_chars(doc)\n",
        "    doc = expand(doc)\n",
        "    doc = re.sub(r'[\\r|\\n|\\r\\n]+', ' ',doc)\n",
        "    doc = lemmatize_text(doc)\n",
        "    \n",
        "    special_char_pattern = re.compile(r'([{.(-)!}])')\n",
        "    doc = special_char_pattern.sub(\" \\\\1 \", doc)\n",
        "    doc = remove_special_characters(doc, remove_digits=True)\n",
        "    \n",
        "    doc = re.sub(' +', ' ', doc)\n",
        "\n",
        "    normalized_corpus.append(doc)\n",
        "    \n",
        "  return normalized_corpus"
      ],
      "execution_count": 0,
      "outputs": []
    },
    {
      "metadata": {
        "id": "GhXg8c-FJiKZ",
        "colab_type": "text"
      },
      "cell_type": "markdown",
      "source": [
        "**Repeating same process as before for the normalized/preprocessed data**"
      ]
    },
    {
      "metadata": {
        "id": "EaPYTjfg5rvx",
        "colab_type": "code",
        "colab": {
          "base_uri": "https://localhost:8080/",
          "height": 51
        },
        "outputId": "c1f8e06e-5126-4261-b2ad-6d045e121176"
      },
      "cell_type": "code",
      "source": [
        "x_train_normalized = normalize_text(x_train)\n",
        "x_test_normalized = normalize_text(x_test)"
      ],
      "execution_count": 76,
      "outputs": [
        {
          "output_type": "stream",
          "text": [
            "100%|██████████| 8500/8500 [03:13<00:00, 44.03it/s]\n",
            "100%|██████████| 592/592 [00:12<00:00, 46.29it/s]\n"
          ],
          "name": "stderr"
        }
      ]
    },
    {
      "metadata": {
        "id": "PztbRE9Y60m6",
        "colab_type": "code",
        "colab": {}
      },
      "cell_type": "code",
      "source": [
        "normalized_train_splits = np.array_split(x_train_normalized, 17)\n",
        "normalized_train_splits = np.array(normalized_train_splits)"
      ],
      "execution_count": 0,
      "outputs": []
    },
    {
      "metadata": {
        "id": "pXtqfbwz9Zro",
        "colab_type": "code",
        "colab": {}
      },
      "cell_type": "code",
      "source": [
        "normalized_train_embeddings = []\n",
        "\n",
        "for split in tqdm.tqdm(normalized_train_splits):\n",
        "  embedding = get_embeddings(split)\n",
        "  normalized_train_embeddings.append(embedding)"
      ],
      "execution_count": 0,
      "outputs": []
    },
    {
      "metadata": {
        "id": "_x_agfx39ux3",
        "colab_type": "code",
        "colab": {
          "base_uri": "https://localhost:8080/",
          "height": 34
        },
        "outputId": "80563491-5b34-418e-b855-06c729d7ef3e"
      },
      "cell_type": "code",
      "source": [
        "normalized_train_embeddings = np.array(normalized_train_embeddings)\n",
        "normalized_train_embeddings = normalized_train_embeddings.reshape(-1, train_embeddings.shape[-1])\n",
        "normalized_train_embeddings.shape"
      ],
      "execution_count": 93,
      "outputs": [
        {
          "output_type": "execute_result",
          "data": {
            "text/plain": [
              "(8500, 512)"
            ]
          },
          "metadata": {
            "tags": []
          },
          "execution_count": 93
        }
      ]
    },
    {
      "metadata": {
        "id": "raeLEVLrAmQN",
        "colab_type": "code",
        "colab": {
          "base_uri": "https://localhost:8080/",
          "height": 51
        },
        "outputId": "bff5c501-3bd2-4574-ea79-005b4aa06861"
      },
      "cell_type": "code",
      "source": [
        "normalized_test_embeddings = get_embeddings(x_test_normalized)"
      ],
      "execution_count": 95,
      "outputs": [
        {
          "output_type": "stream",
          "text": [
            "INFO:tensorflow:Saver not created because there are no variables in the graph to restore\n"
          ],
          "name": "stdout"
        },
        {
          "output_type": "stream",
          "text": [
            "I0324 18:44:10.929378 140318966671232 saver.py:1483] Saver not created because there are no variables in the graph to restore\n"
          ],
          "name": "stderr"
        }
      ]
    },
    {
      "metadata": {
        "id": "Y6OGXHnnA-3K",
        "colab_type": "code",
        "colab": {}
      },
      "cell_type": "code",
      "source": [
        "normalized_model = create_model()"
      ],
      "execution_count": 0,
      "outputs": []
    },
    {
      "metadata": {
        "id": "IgvzE-EUBL33",
        "colab_type": "code",
        "colab": {
          "base_uri": "https://localhost:8080/",
          "height": 221
        },
        "outputId": "36ff93db-809e-4e0e-8a1f-c85ee2ca0c16"
      },
      "cell_type": "code",
      "source": [
        "normalized_model.fit(normalized_train_embeddings, y_train_cat, epochs=5, validation_split=.1, batch_size=500)"
      ],
      "execution_count": 97,
      "outputs": [
        {
          "output_type": "stream",
          "text": [
            "Train on 7650 samples, validate on 850 samples\n",
            "Epoch 1/5\n",
            "7650/7650 [==============================] - 37s 5ms/step - loss: 0.5278 - acc: 0.7493 - val_loss: 0.4703 - val_acc: 0.6553\n",
            "Epoch 2/5\n",
            "7650/7650 [==============================] - 0s 16us/step - loss: 0.3646 - acc: 0.8005 - val_loss: 0.3822 - val_acc: 0.8659\n",
            "Epoch 3/5\n",
            "7650/7650 [==============================] - 0s 17us/step - loss: 0.3214 - acc: 0.8729 - val_loss: 0.3221 - val_acc: 0.8824\n",
            "Epoch 4/5\n",
            "7650/7650 [==============================] - 0s 16us/step - loss: 0.2883 - acc: 0.8805 - val_loss: 0.2857 - val_acc: 0.8929\n",
            "Epoch 5/5\n",
            "7650/7650 [==============================] - 0s 16us/step - loss: 0.2716 - acc: 0.8831 - val_loss: 0.2804 - val_acc: 0.8906\n"
          ],
          "name": "stdout"
        },
        {
          "output_type": "execute_result",
          "data": {
            "text/plain": [
              "<keras.callbacks.History at 0x7f9d91a2c470>"
            ]
          },
          "metadata": {
            "tags": []
          },
          "execution_count": 97
        }
      ]
    },
    {
      "metadata": {
        "id": "9yeT3676BVzc",
        "colab_type": "code",
        "colab": {
          "base_uri": "https://localhost:8080/",
          "height": 51
        },
        "outputId": "ffdd4f76-269c-4c77-d646-42addb83ecde"
      },
      "cell_type": "code",
      "source": [
        "normalized_model.evaluate(normalized_test_embeddings, y_test_cat)"
      ],
      "execution_count": 99,
      "outputs": [
        {
          "output_type": "stream",
          "text": [
            "592/592 [==============================] - 0s 81us/step\n"
          ],
          "name": "stdout"
        },
        {
          "output_type": "execute_result",
          "data": {
            "text/plain": [
              "[0.4489438437126778, 0.8108108108108109]"
            ]
          },
          "metadata": {
            "tags": []
          },
          "execution_count": 99
        }
      ]
    },
    {
      "metadata": {
        "id": "RLXX18UZBpZ1",
        "colab_type": "code",
        "colab": {}
      },
      "cell_type": "code",
      "source": [
        "normalized_predicts = normalized_model.predict(normalized_test_embeddings)"
      ],
      "execution_count": 0,
      "outputs": []
    },
    {
      "metadata": {
        "id": "QDZR3GuWB4ZN",
        "colab_type": "code",
        "colab": {}
      },
      "cell_type": "code",
      "source": [
        "y_normalized_predicts = np.argmax(normalized_predicts, axis=1)"
      ],
      "execution_count": 0,
      "outputs": []
    },
    {
      "metadata": {
        "id": "6aZmruF9JpNZ",
        "colab_type": "text"
      },
      "cell_type": "markdown",
      "source": [
        "**The model gives a worse accuracy score for preprocessed data which is quite strange**\n",
        "\n",
        "This may be a testament to USE's robustness and how powerful it is for out of the box transfer learning on NLP tasks"
      ]
    },
    {
      "metadata": {
        "id": "hFp1hx0oCC2q",
        "colab_type": "code",
        "colab": {}
      },
      "cell_type": "code",
      "source": [
        "eval_new_model = evaluateModel(y_test, y_normalized_predicts)"
      ],
      "execution_count": 0,
      "outputs": []
    },
    {
      "metadata": {
        "id": "LbDQoObfCHik",
        "colab_type": "code",
        "colab": {
          "base_uri": "https://localhost:8080/",
          "height": 34
        },
        "outputId": "3ad5bef0-fb97-4f51-95ca-4451e4ae6063"
      },
      "cell_type": "code",
      "source": [
        "eval_new_model.get_accuracy()"
      ],
      "execution_count": 107,
      "outputs": [
        {
          "output_type": "stream",
          "text": [
            "0.8108108108108109\n"
          ],
          "name": "stdout"
        }
      ]
    },
    {
      "metadata": {
        "id": "LAvs9ZoMCJbm",
        "colab_type": "code",
        "colab": {
          "base_uri": "https://localhost:8080/",
          "height": 170
        },
        "outputId": "e2f26416-0981-47a1-ef48-46e525d1ac9f"
      },
      "cell_type": "code",
      "source": [
        "eval_new_model.get_report()"
      ],
      "execution_count": 108,
      "outputs": [
        {
          "output_type": "stream",
          "text": [
            "              precision    recall  f1-score   support\n",
            "\n",
            "           0       0.78      0.88      0.82       296\n",
            "           1       0.86      0.75      0.80       296\n",
            "\n",
            "   micro avg       0.81      0.81      0.81       592\n",
            "   macro avg       0.82      0.81      0.81       592\n",
            "weighted avg       0.82      0.81      0.81       592\n",
            "\n"
          ],
          "name": "stdout"
        }
      ]
    },
    {
      "metadata": {
        "id": "avQU_d5ECQ6M",
        "colab_type": "code",
        "colab": {
          "base_uri": "https://localhost:8080/",
          "height": 361
        },
        "outputId": "e114eabe-2588-4b29-a7af-ecfe515adb17"
      },
      "cell_type": "code",
      "source": [
        "eval_new_model.plot_cm()"
      ],
      "execution_count": 109,
      "outputs": [
        {
          "output_type": "display_data",
          "data": {
            "image/png": "[encoded data removed]",
            "text/plain": [
              "<Figure size 576x396 with 2 Axes>"
            ]
          },
          "metadata": {
            "tags": []
          }
        }
      ]
    },
    {
      "metadata": {
        "id": "80BxvJwLJ7zm",
        "colab_type": "text"
      },
      "cell_type": "markdown",
      "source": [
        "#### Just checking another classifier to get an idea of different performances"
      ]
    },
    {
      "metadata": {
        "id": "wN2dTtlOKDxB",
        "colab_type": "text"
      },
      "cell_type": "markdown",
      "source": [
        "The XGBoost classifier also performs worse than our first model\n"
      ]
    },
    {
      "metadata": {
        "id": "Cs0wWMFgCbB0",
        "colab_type": "code",
        "colab": {
          "base_uri": "https://localhost:8080/",
          "height": 34
        },
        "outputId": "2d9587e1-be49-47ef-a84e-8379c19383db"
      },
      "cell_type": "code",
      "source": [
        "from xgboost import XGBClassifier\n",
        "\n",
        "xgb = XGBClassifier(n_estimators=100)\n",
        "xgb.fit(train_embeddings, y_train)\n",
        "\n",
        "xgb_preds = xgb.predict(test_embeddings)\n",
        "\n",
        "accuracy_score(y_test, xgb_preds)"
      ],
      "execution_count": 115,
      "outputs": [
        {
          "output_type": "execute_result",
          "data": {
            "text/plain": [
              "0.7871621621621622"
            ]
          },
          "metadata": {
            "tags": []
          },
          "execution_count": 115
        }
      ]
    },
    {
      "metadata": {
        "id": "6-bezrn6KHPg",
        "colab_type": "text"
      },
      "cell_type": "markdown",
      "source": [
        "***Getting USE embeddings for evaluation data***"
      ]
    },
    {
      "metadata": {
        "id": "2XengC4SCrt_",
        "colab_type": "code",
        "colab": {
          "base_uri": "https://localhost:8080/",
          "height": 51
        },
        "outputId": "63e9a2be-785d-4468-e55d-83b0b61fcc0e"
      },
      "cell_type": "code",
      "source": [
        "eval_embeddings = get_embeddings(x_eval.values)"
      ],
      "execution_count": 119,
      "outputs": [
        {
          "output_type": "stream",
          "text": [
            "INFO:tensorflow:Saver not created because there are no variables in the graph to restore\n"
          ],
          "name": "stdout"
        },
        {
          "output_type": "stream",
          "text": [
            "I0324 18:58:53.219254 140318966671232 saver.py:1483] Saver not created because there are no variables in the graph to restore\n"
          ],
          "name": "stderr"
        }
      ]
    },
    {
      "metadata": {
        "id": "5bAEr1QxKOcd",
        "colab_type": "text"
      },
      "cell_type": "markdown",
      "source": [
        "**Since the first model performs the best with a 84% accuracy, we'll go with that model for making final submissions**"
      ]
    },
    {
      "metadata": {
        "id": "IYeHxir0ECgb",
        "colab_type": "code",
        "colab": {}
      },
      "cell_type": "code",
      "source": [
        "eval_predicts = model.predict(eval_embeddings)"
      ],
      "execution_count": 0,
      "outputs": []
    },
    {
      "metadata": {
        "id": "QrgV5jrkEjPs",
        "colab_type": "code",
        "colab": {}
      },
      "cell_type": "code",
      "source": [
        "eval_preds = np.argmax(eval_predicts, axis=1)"
      ],
      "execution_count": 0,
      "outputs": []
    },
    {
      "metadata": {
        "id": "tX00sZsxEkSZ",
        "colab_type": "code",
        "colab": {}
      },
      "cell_type": "code",
      "source": [
        "evaluation[2] = eval_preds"
      ],
      "execution_count": 0,
      "outputs": []
    },
    {
      "metadata": {
        "id": "-E-xkN0LKWwT",
        "colab_type": "text"
      },
      "cell_type": "markdown",
      "source": [
        "The number of Label 1 predictions is quite less which is a bit strange."
      ]
    },
    {
      "metadata": {
        "id": "dbhtyAmOEp77",
        "colab_type": "code",
        "colab": {
          "base_uri": "https://localhost:8080/",
          "height": 68
        },
        "outputId": "58e83674-402c-4d92-8620-6faa62eaefca"
      },
      "cell_type": "code",
      "source": [
        "evaluation[2].value_counts()"
      ],
      "execution_count": 133,
      "outputs": [
        {
          "output_type": "execute_result",
          "data": {
            "text/plain": [
              "0    746\n",
              "1     87\n",
              "Name: 2, dtype: int64"
            ]
          },
          "metadata": {
            "tags": []
          },
          "execution_count": 133
        }
      ]
    },
    {
      "metadata": {
        "id": "aRMsZ37IKcFe",
        "colab_type": "text"
      },
      "cell_type": "markdown",
      "source": [
        "**Converting predicted dataframe into csv and the required format**"
      ]
    },
    {
      "metadata": {
        "id": "4OdxRGjME4KS",
        "colab_type": "code",
        "colab": {}
      },
      "cell_type": "code",
      "source": [
        "evaluation.to_csv('anmol_goel.csv')"
      ],
      "execution_count": 0,
      "outputs": []
    },
    {
      "metadata": {
        "id": "49XLKcRVFFsz",
        "colab_type": "code",
        "colab": {}
      },
      "cell_type": "code",
      "source": [
        ""
      ],
      "execution_count": 0,
      "outputs": []
    }
  ]
}